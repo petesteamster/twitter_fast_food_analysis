{
 "cells": [
  {
   "cell_type": "code",
   "execution_count": 1,
   "metadata": {
    "collapsed": true
   },
   "outputs": [],
   "source": [
    "import pandas as pd\n",
    "import tweepy\n",
    "from tweepy import OAuthHandler\n",
    "from twitter_codes import consumer_secret, consumer_key, access_secret, access_token\n",
    "from tqdm import tqdm"
   ]
  },
  {
   "cell_type": "code",
   "execution_count": 2,
   "metadata": {
    "collapsed": true
   },
   "outputs": [],
   "source": [
    "auth = OAuthHandler(consumer_secret, consumer_key)\n",
    "auth.set_access_token(access_token, access_secret)\n",
    "api = tweepy.API(auth)"
   ]
  },
  {
   "cell_type": "code",
   "execution_count": 3,
   "metadata": {
    "collapsed": true
   },
   "outputs": [],
   "source": [
    "try:\n",
    "    redirect_url = auth.get_authorization_url(signin_with_twitter=True)\n",
    "except tweepy.TweepError:\n",
    "    print('Error! Failed to get request token.')"
   ]
  },
  {
   "cell_type": "code",
   "execution_count": 4,
   "metadata": {
    "collapsed": true
   },
   "outputs": [],
   "source": [
    "rest_names = ['@McDonalds', \n",
    "             '@sonicdrivein', \n",
    "             '@wingstop',\n",
    "             '@Starbucks',\n",
    "             '@shakeshack',\n",
    "             '@redrobinburgers',\n",
    "             '@Potbelly',\n",
    "             '@dominos',\n",
    "             '@DennysDiner',\n",
    "             '@CrackerBarrel',\n",
    "             '@ChipotleTweets',\n",
    "             '@Wendys',\n",
    "             '@dunkindonuts']"
   ]
  },
  {
   "cell_type": "code",
   "execution_count": 5,
   "metadata": {},
   "outputs": [
    {
     "name": "stderr",
     "output_type": "stream",
     "text": [
      "100%|██████████| 13/13 [00:04<00:00,  3.11it/s]\n"
     ]
    }
   ],
   "source": [
    "all_comps = []\n",
    "\n",
    "for company in tqdm(rest_names):\n",
    "    twitter_comp = []\n",
    "    for tweet in api.user_timeline(id=company, wait_on_rate_limit=True):\n",
    "        comp = {}\n",
    "        comp['name'] = company\n",
    "        comp['time_tweeted'] = tweet.created_at\n",
    "        comp['favorite_count'] = tweet.favorite_count\n",
    "        comp['retweet_count'] = tweet.retweet_count\n",
    "        comp['text'] = tweet.text\n",
    "        comp['unique_code'] = tweet.id_str\n",
    "        comp['company_followers_count'] = tweet.author.followers_count\n",
    "        comp['is_quote_status'] = tweet.is_quote_status\n",
    "        comp['is_a_retweet'] = tweet.retweeted\n",
    "        comp['favorite_count'] = tweet.author.favourites_count\n",
    "        comp['followers_count'] = tweet.author.followers_count\n",
    "        comp['number_of_tweets_total'] = tweet.author.statuses_count      \n",
    "        twitter_comp.append(comp)\n",
    "    all_comps.extend(twitter_comp)  "
   ]
  },
  {
   "cell_type": "code",
   "execution_count": 6,
   "metadata": {
    "collapsed": true
   },
   "outputs": [],
   "source": [
    "df = pd.DataFrame(all_comps)"
   ]
  },
  {
   "cell_type": "code",
   "execution_count": 7,
   "metadata": {
    "collapsed": true
   },
   "outputs": [],
   "source": [
    "with open('./company_tweets.csv', 'a') as f:\n",
    "    df.to_csv(f, header=False)"
   ]
  }
 ],
 "metadata": {
  "kernelspec": {
   "display_name": "Python 3",
   "language": "python",
   "name": "python3"
  },
  "language_info": {
   "codemirror_mode": {
    "name": "ipython",
    "version": 3
   },
   "file_extension": ".py",
   "mimetype": "text/x-python",
   "name": "python",
   "nbconvert_exporter": "python",
   "pygments_lexer": "ipython3",
   "version": "3.6.4"
  }
 },
 "nbformat": 4,
 "nbformat_minor": 2
}
