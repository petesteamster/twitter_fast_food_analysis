{
 "cells": [
  {
   "cell_type": "code",
   "execution_count": 1,
   "metadata": {
    "collapsed": true
   },
   "outputs": [],
   "source": [
    "import pandas as pd\n",
    "import numpy as np \n",
    "from nltk.tokenize import RegexpTokenizer\n",
    "from nltk.stem import PorterStemmer\n",
    "from nltk.corpus import stopwords\n",
    "import nltk\n",
    "import re\n",
    "import matplotlib.pyplot as plt\n",
    "%matplotlib inline\n",
    "import matplotlib \n",
    "import matplotlib.patches as mpatches\n",
    "import seaborn as sns"
   ]
  },
  {
   "cell_type": "code",
   "execution_count": 2,
   "metadata": {
    "collapsed": true
   },
   "outputs": [],
   "source": [
    "food = pd.read_csv('./fastfood.csv', index_col=0)"
   ]
  },
  {
   "cell_type": "code",
   "execution_count": 150,
   "metadata": {},
   "outputs": [
    {
     "data": {
      "text/html": [
       "<div>\n",
       "<style scoped>\n",
       "    .dataframe tbody tr th:only-of-type {\n",
       "        vertical-align: middle;\n",
       "    }\n",
       "\n",
       "    .dataframe tbody tr th {\n",
       "        vertical-align: top;\n",
       "    }\n",
       "\n",
       "    .dataframe thead th {\n",
       "        text-align: right;\n",
       "    }\n",
       "</style>\n",
       "<table border=\"1\" class=\"dataframe\">\n",
       "  <thead>\n",
       "    <tr style=\"text-align: right;\">\n",
       "      <th></th>\n",
       "      <th>Company</th>\n",
       "      <th>favorite_count</th>\n",
       "      <th>number_of_people_they_follow</th>\n",
       "      <th>number_of_user_tweets</th>\n",
       "      <th>retweet_count</th>\n",
       "      <th>text</th>\n",
       "      <th>time_tweeted</th>\n",
       "      <th>unique_code</th>\n",
       "      <th>user_coordinates</th>\n",
       "      <th>user_followers_count</th>\n",
       "      <th>user_is_verified</th>\n",
       "      <th>user_location</th>\n",
       "      <th>user_name</th>\n",
       "      <th>user_profile_text</th>\n",
       "    </tr>\n",
       "  </thead>\n",
       "  <tbody>\n",
       "    <tr>\n",
       "      <th>0</th>\n",
       "      <td>@McDonalds</td>\n",
       "      <td>0.0</td>\n",
       "      <td>1559.0</td>\n",
       "      <td>776.0</td>\n",
       "      <td>0</td>\n",
       "      <td>My local @McDonalds no longer has orange HiC. ...</td>\n",
       "      <td>2018-03-13 18:01:55</td>\n",
       "      <td>973620183507128320</td>\n",
       "      <td>NaN</td>\n",
       "      <td>1254.0</td>\n",
       "      <td>0</td>\n",
       "      <td>St. Petersburg, FL</td>\n",
       "      <td>PartsForScooters</td>\n",
       "      <td>Join us on our quest to become the best scoote...</td>\n",
       "    </tr>\n",
       "    <tr>\n",
       "      <th>1</th>\n",
       "      <td>@McDonalds</td>\n",
       "      <td>0.0</td>\n",
       "      <td>50.0</td>\n",
       "      <td>4.0</td>\n",
       "      <td>0</td>\n",
       "      <td>@McDonalds why did my mom leave me and move to...</td>\n",
       "      <td>2018-03-13 18:01:48</td>\n",
       "      <td>973620155514347521</td>\n",
       "      <td>NaN</td>\n",
       "      <td>2.0</td>\n",
       "      <td>0</td>\n",
       "      <td>Hell, fuck you i live in hell</td>\n",
       "      <td>Miles Boi</td>\n",
       "      <td>im gay and i like gay emo memes\\n\\n(Miles,Tran...</td>\n",
       "    </tr>\n",
       "    <tr>\n",
       "      <th>2</th>\n",
       "      <td>@McDonalds</td>\n",
       "      <td>0.0</td>\n",
       "      <td>112.0</td>\n",
       "      <td>3587.0</td>\n",
       "      <td>0</td>\n",
       "      <td>@McDonalds Your company has one job.  TO MAKE ...</td>\n",
       "      <td>2018-03-13 18:01:31</td>\n",
       "      <td>973620084307570689</td>\n",
       "      <td>NaN</td>\n",
       "      <td>39.0</td>\n",
       "      <td>0</td>\n",
       "      <td>NaN</td>\n",
       "      <td>buckeyes2018</td>\n",
       "      <td>Proud Veteran</td>\n",
       "    </tr>\n",
       "    <tr>\n",
       "      <th>3</th>\n",
       "      <td>@McDonalds</td>\n",
       "      <td>0.0</td>\n",
       "      <td>3488.0</td>\n",
       "      <td>15077.0</td>\n",
       "      <td>0</td>\n",
       "      <td>McDonald's service hits rock bottom in drive t...</td>\n",
       "      <td>2018-03-13 18:01:21</td>\n",
       "      <td>973620039470469121</td>\n",
       "      <td>NaN</td>\n",
       "      <td>5508.0</td>\n",
       "      <td>0</td>\n",
       "      <td>graham@beloved-brands.com</td>\n",
       "      <td>Beloved Brands</td>\n",
       "      <td>Graham Roberson is the Founder/CMO of Beloved ...</td>\n",
       "    </tr>\n",
       "    <tr>\n",
       "      <th>4</th>\n",
       "      <td>@McDonalds</td>\n",
       "      <td>0.0</td>\n",
       "      <td>74.0</td>\n",
       "      <td>909.0</td>\n",
       "      <td>0</td>\n",
       "      <td>The sauce has taken me to new heights. @McDona...</td>\n",
       "      <td>2018-03-13 18:01:05</td>\n",
       "      <td>973619976115400704</td>\n",
       "      <td>NaN</td>\n",
       "      <td>22.0</td>\n",
       "      <td>0</td>\n",
       "      <td>San Antonio, TX</td>\n",
       "      <td>Colton</td>\n",
       "      <td>Dogs, food and sweet tea  | Clark, Tx | @brit_...</td>\n",
       "    </tr>\n",
       "  </tbody>\n",
       "</table>\n",
       "</div>"
      ],
      "text/plain": [
       "      Company  favorite_count  number_of_people_they_follow  \\\n",
       "0  @McDonalds             0.0                        1559.0   \n",
       "1  @McDonalds             0.0                          50.0   \n",
       "2  @McDonalds             0.0                         112.0   \n",
       "3  @McDonalds             0.0                        3488.0   \n",
       "4  @McDonalds             0.0                          74.0   \n",
       "\n",
       "   number_of_user_tweets retweet_count  \\\n",
       "0                  776.0             0   \n",
       "1                    4.0             0   \n",
       "2                 3587.0             0   \n",
       "3                15077.0             0   \n",
       "4                  909.0             0   \n",
       "\n",
       "                                                text         time_tweeted  \\\n",
       "0  My local @McDonalds no longer has orange HiC. ...  2018-03-13 18:01:55   \n",
       "1  @McDonalds why did my mom leave me and move to...  2018-03-13 18:01:48   \n",
       "2  @McDonalds Your company has one job.  TO MAKE ...  2018-03-13 18:01:31   \n",
       "3  McDonald's service hits rock bottom in drive t...  2018-03-13 18:01:21   \n",
       "4  The sauce has taken me to new heights. @McDona...  2018-03-13 18:01:05   \n",
       "\n",
       "          unique_code user_coordinates  user_followers_count  \\\n",
       "0  973620183507128320              NaN                1254.0   \n",
       "1  973620155514347521              NaN                   2.0   \n",
       "2  973620084307570689              NaN                  39.0   \n",
       "3  973620039470469121              NaN                5508.0   \n",
       "4  973619976115400704              NaN                  22.0   \n",
       "\n",
       "   user_is_verified                  user_location         user_name  \\\n",
       "0                 0             St. Petersburg, FL  PartsForScooters   \n",
       "1                 0  Hell, fuck you i live in hell         Miles Boi   \n",
       "2                 0                            NaN      buckeyes2018   \n",
       "3                 0      graham@beloved-brands.com    Beloved Brands   \n",
       "4                 0                San Antonio, TX            Colton   \n",
       "\n",
       "                                   user_profile_text  \n",
       "0  Join us on our quest to become the best scoote...  \n",
       "1  im gay and i like gay emo memes\\n\\n(Miles,Tran...  \n",
       "2                                      Proud Veteran  \n",
       "3  Graham Roberson is the Founder/CMO of Beloved ...  \n",
       "4  Dogs, food and sweet tea  | Clark, Tx | @brit_...  "
      ]
     },
     "execution_count": 150,
     "metadata": {},
     "output_type": "execute_result"
    }
   ],
   "source": [
    "food.head()"
   ]
  },
  {
   "cell_type": "code",
   "execution_count": 3,
   "metadata": {},
   "outputs": [
    {
     "data": {
      "text/plain": [
       "(48294, 14)"
      ]
     },
     "execution_count": 3,
     "metadata": {},
     "output_type": "execute_result"
    }
   ],
   "source": []
  },
  {
   "cell_type": "code",
   "execution_count": 4,
   "metadata": {
    "collapsed": true
   },
   "outputs": [],
   "source": [
    "food = food.drop_duplicates()"
   ]
  },
  {
   "cell_type": "code",
   "execution_count": 5,
   "metadata": {},
   "outputs": [
    {
     "data": {
      "text/plain": [
       "(44998, 14)"
      ]
     },
     "execution_count": 5,
     "metadata": {},
     "output_type": "execute_result"
    }
   ],
   "source": [
    "food.shape"
   ]
  },
  {
   "cell_type": "code",
   "execution_count": 6,
   "metadata": {
    "collapsed": true
   },
   "outputs": [],
   "source": [
    "comps = list(food.Company.unique())[:-3]\n",
    "del comps[-2]\n",
    "comps = [x[1:] for x in comps]"
   ]
  },
  {
   "cell_type": "code",
   "execution_count": 8,
   "metadata": {
    "collapsed": true
   },
   "outputs": [],
   "source": [
    "stopword = stopwords.words('english')\n",
    "stopword.extend(comps)\n",
    "stopword.extend(list(food.Company.unique())[:-3])"
   ]
  },
  {
   "cell_type": "code",
   "execution_count": 9,
   "metadata": {
    "collapsed": true
   },
   "outputs": [],
   "source": [
    "companies = list(food.Company.unique())[:-3]\n",
    "texts = []\n",
    "for x in companies:\n",
    "    try:\n",
    "        something = ' '.join(val for val in food.loc[food['Company'] == x]['text'])\n",
    "        texts.append(something)\n",
    "    except:\n",
    "        pass\n",
    "    "
   ]
  },
  {
   "cell_type": "code",
   "execution_count": 11,
   "metadata": {
    "collapsed": true
   },
   "outputs": [],
   "source": [
    "del texts[-2]"
   ]
  },
  {
   "cell_type": "code",
   "execution_count": 33,
   "metadata": {
    "collapsed": true
   },
   "outputs": [],
   "source": [
    "def Text_Cleaner(text):\n",
    "    text = re.sub(r'(https)[^\\s]+', '', text)\n",
    "    tokenizer = RegexpTokenizer(r'\\w+')\n",
    "    words = tokenizer.tokenize(text)\n",
    "    lower = [x.lower() for x in words]\n",
    "    eliminator = [re.sub(r'(mcdon|dunki|denn|redro|sonic|starb|shakesh|domino|crackerb|chipot|wend)[a-z]+','',x)\n",
    "                  for x in lower]\n",
    "    portstemmer = PorterStemmer()\n",
    "    porter = [portstemmer.stem(x) for x in eliminator]\n",
    "    stops = [x for x in porter if x not in set(stopword)]\n",
    "    lots = [x for x in stops if len(x) > 3]\n",
    "    return lots"
   ]
  },
  {
   "cell_type": "code",
   "execution_count": 34,
   "metadata": {
    "collapsed": true
   },
   "outputs": [],
   "source": [
    "cleaned = [Text_Cleaner(x) for x in texts]"
   ]
  },
  {
   "cell_type": "code",
   "execution_count": 14,
   "metadata": {
    "collapsed": true
   },
   "outputs": [],
   "source": [
    "from gensim import corpora, models"
   ]
  },
  {
   "cell_type": "code",
   "execution_count": 15,
   "metadata": {
    "collapsed": true
   },
   "outputs": [],
   "source": [
    "np.random.seed(42)"
   ]
  },
  {
   "cell_type": "code",
   "execution_count": 16,
   "metadata": {
    "collapsed": true
   },
   "outputs": [],
   "source": [
    "dictionary = corpora.Dictionary(cleaned)"
   ]
  },
  {
   "cell_type": "code",
   "execution_count": 17,
   "metadata": {
    "collapsed": true
   },
   "outputs": [],
   "source": [
    "corpus = [dictionary.doc2bow(clean) for clean in cleaned]"
   ]
  },
  {
   "cell_type": "code",
   "execution_count": 18,
   "metadata": {
    "collapsed": true
   },
   "outputs": [],
   "source": [
    "ldamodel = models.ldamodel.LdaModel(corpus, \n",
    "                                    id2word = dictionary,\n",
    "                                    num_topics = 7,\n",
    "                                    passes = 50,\n",
    "                                    minimum_probability = 0\n",
    "                                   )"
   ]
  },
  {
   "cell_type": "code",
   "execution_count": 19,
   "metadata": {
    "collapsed": true
   },
   "outputs": [],
   "source": [
    "import pyLDAvis.gensim"
   ]
  },
  {
   "cell_type": "code",
   "execution_count": 20,
   "metadata": {},
   "outputs": [
    {
     "name": "stderr",
     "output_type": "stream",
     "text": [
      "/Users/slevin886/anaconda2/envs/python3/lib/python3.6/site-packages/pyLDAvis/_prepare.py:387: DeprecationWarning: \n",
      ".ix is deprecated. Please use\n",
      ".loc for label based indexing or\n",
      ".iloc for positional indexing\n",
      "\n",
      "See the documentation here:\n",
      "http://pandas.pydata.org/pandas-docs/stable/indexing.html#ix-indexer-is-deprecated\n",
      "  topic_term_dists = topic_term_dists.ix[topic_order]\n"
     ]
    },
    {
     "data": {
      "text/html": [
       "\n",
       "<link rel=\"stylesheet\" type=\"text/css\" href=\"https://cdn.rawgit.com/bmabey/pyLDAvis/files/ldavis.v1.0.0.css\">\n",
       "\n",
       "\n",
       "<div id=\"ldavis_el982211123186402002674321965\"></div>\n",
       "<script type=\"text/javascript\">\n",
       "\n",
       "var ldavis_el982211123186402002674321965_data = {\"mdsDat\": {\"Freq\": [25.792312622070312, 17.2922420501709, 16.043384552001953, 14.998886108398438, 9.56268310546875, 9.479486465454102, 6.831004619598389], \"cluster\": [1, 1, 1, 1, 1, 1, 1], \"topics\": [1, 2, 3, 4, 5, 6, 7], \"x\": [0.06607462753905312, 0.06182702399750021, 0.06078806479908872, 0.0682501148033367, -0.371988485212809, 0.07211020520315807, 0.042938448870672115], \"y\": [-0.07245026968305768, -0.11603942825745457, -0.059388068073306294, -0.009490020454078516, 0.008443356670399617, 0.2972628824033815, -0.04833845260588424]}, \"tinfo\": {\"Category\": [\"Default\", \"Default\", \"Default\", \"Default\", \"Default\", \"Default\", \"Default\", \"Default\", \"Default\", \"Default\", \"Default\", \"Default\", \"Default\", \"Default\", \"Default\", \"Default\", \"Default\", \"Default\", \"Default\", \"Default\", \"Default\", \"Default\", \"Default\", \"Default\", \"Default\", \"Default\", \"Default\", \"Default\", \"Default\", \"Default\", \"Topic1\", \"Topic1\", \"Topic1\", \"Topic1\", \"Topic1\", \"Topic1\", \"Topic1\", \"Topic1\", \"Topic1\", \"Topic1\", \"Topic1\", \"Topic1\", \"Topic1\", \"Topic1\", \"Topic1\", \"Topic1\", \"Topic1\", \"Topic1\", \"Topic1\", \"Topic1\", \"Topic1\", \"Topic1\", \"Topic1\", \"Topic1\", \"Topic1\", \"Topic1\", \"Topic1\", \"Topic1\", \"Topic1\", \"Topic1\", \"Topic1\", \"Topic1\", \"Topic1\", \"Topic1\", \"Topic1\", \"Topic1\", \"Topic1\", \"Topic1\", \"Topic1\", \"Topic1\", \"Topic1\", \"Topic1\", \"Topic1\", \"Topic1\", \"Topic1\", \"Topic1\", \"Topic1\", \"Topic1\", \"Topic1\", \"Topic1\", \"Topic1\", \"Topic1\", \"Topic1\", \"Topic1\", \"Topic1\", \"Topic1\", \"Topic1\", \"Topic1\", \"Topic1\", \"Topic1\", \"Topic1\", \"Topic1\", \"Topic1\", \"Topic1\", \"Topic1\", \"Topic1\", \"Topic1\", \"Topic1\", \"Topic1\", \"Topic1\", \"Topic1\", \"Topic1\", \"Topic2\", \"Topic2\", \"Topic2\", \"Topic2\", \"Topic2\", \"Topic2\", \"Topic2\", \"Topic2\", \"Topic2\", \"Topic2\", \"Topic2\", \"Topic2\", \"Topic2\", \"Topic2\", \"Topic2\", \"Topic2\", \"Topic2\", \"Topic2\", \"Topic2\", \"Topic2\", \"Topic2\", \"Topic2\", \"Topic2\", \"Topic2\", \"Topic2\", \"Topic2\", \"Topic2\", \"Topic2\", \"Topic2\", \"Topic2\", \"Topic2\", \"Topic2\", \"Topic2\", \"Topic2\", \"Topic2\", \"Topic2\", \"Topic2\", \"Topic2\", \"Topic2\", \"Topic2\", \"Topic2\", \"Topic2\", \"Topic2\", \"Topic2\", \"Topic2\", \"Topic2\", \"Topic2\", \"Topic2\", \"Topic2\", \"Topic2\", \"Topic2\", \"Topic2\", \"Topic2\", \"Topic2\", \"Topic2\", \"Topic2\", \"Topic2\", \"Topic2\", \"Topic2\", \"Topic2\", \"Topic2\", \"Topic2\", \"Topic3\", \"Topic3\", \"Topic3\", \"Topic3\", \"Topic3\", \"Topic3\", \"Topic3\", \"Topic3\", \"Topic3\", \"Topic3\", \"Topic3\", \"Topic3\", \"Topic3\", \"Topic3\", \"Topic3\", \"Topic3\", \"Topic3\", \"Topic3\", \"Topic3\", \"Topic3\", \"Topic3\", \"Topic3\", \"Topic3\", \"Topic3\", \"Topic3\", \"Topic3\", \"Topic3\", \"Topic3\", \"Topic3\", \"Topic3\", \"Topic3\", \"Topic3\", \"Topic3\", \"Topic3\", \"Topic3\", \"Topic3\", \"Topic3\", \"Topic3\", \"Topic3\", \"Topic3\", \"Topic3\", \"Topic3\", \"Topic3\", \"Topic3\", \"Topic3\", \"Topic3\", \"Topic3\", \"Topic3\", \"Topic3\", \"Topic3\", \"Topic3\", \"Topic3\", \"Topic3\", \"Topic3\", \"Topic3\", \"Topic3\", \"Topic3\", \"Topic3\", \"Topic3\", \"Topic3\", \"Topic3\", \"Topic3\", \"Topic3\", \"Topic3\", \"Topic3\", \"Topic3\", \"Topic3\", \"Topic4\", \"Topic4\", \"Topic4\", \"Topic4\", \"Topic4\", \"Topic4\", \"Topic4\", \"Topic4\", \"Topic4\", \"Topic4\", \"Topic4\", \"Topic4\", \"Topic4\", \"Topic4\", \"Topic4\", \"Topic4\", \"Topic4\", \"Topic4\", \"Topic4\", \"Topic4\", \"Topic4\", \"Topic4\", \"Topic4\", \"Topic4\", \"Topic4\", \"Topic4\", \"Topic4\", \"Topic4\", \"Topic4\", \"Topic4\", \"Topic4\", \"Topic4\", \"Topic4\", \"Topic4\", \"Topic4\", \"Topic4\", \"Topic4\", \"Topic4\", \"Topic4\", \"Topic4\", \"Topic4\", \"Topic4\", \"Topic4\", \"Topic4\", \"Topic4\", \"Topic4\", \"Topic4\", \"Topic4\", \"Topic4\", \"Topic4\", \"Topic4\", \"Topic4\", \"Topic4\", \"Topic4\", \"Topic4\", \"Topic4\", \"Topic4\", \"Topic4\", \"Topic4\", \"Topic4\", \"Topic4\", \"Topic4\", \"Topic4\", \"Topic4\", \"Topic4\", \"Topic4\", \"Topic4\", \"Topic4\", \"Topic5\", \"Topic5\", \"Topic5\", \"Topic5\", \"Topic5\", \"Topic5\", \"Topic5\", \"Topic5\", \"Topic5\", \"Topic5\", \"Topic5\", \"Topic5\", \"Topic5\", \"Topic5\", \"Topic5\", \"Topic5\", \"Topic5\", \"Topic5\", \"Topic5\", \"Topic5\", \"Topic5\", \"Topic5\", \"Topic5\", \"Topic5\", \"Topic5\", \"Topic5\", \"Topic5\", \"Topic5\", \"Topic5\", \"Topic5\", \"Topic5\", \"Topic5\", \"Topic5\", \"Topic5\", \"Topic5\", \"Topic5\", \"Topic5\", \"Topic5\", \"Topic5\", \"Topic5\", \"Topic5\", \"Topic5\", \"Topic5\", \"Topic5\", \"Topic5\", \"Topic5\", \"Topic5\", \"Topic6\", \"Topic6\", \"Topic6\", \"Topic6\", \"Topic6\", \"Topic6\", \"Topic6\", \"Topic6\", \"Topic6\", \"Topic6\", \"Topic6\", \"Topic6\", \"Topic6\", \"Topic6\", \"Topic6\", \"Topic6\", \"Topic6\", \"Topic6\", \"Topic6\", \"Topic6\", \"Topic6\", \"Topic6\", \"Topic6\", \"Topic6\", \"Topic6\", \"Topic6\", \"Topic6\", \"Topic6\", \"Topic6\", \"Topic6\", \"Topic6\", \"Topic6\", \"Topic6\", \"Topic6\", \"Topic6\", \"Topic6\", \"Topic6\", \"Topic6\", \"Topic6\", \"Topic6\", \"Topic6\", \"Topic6\", \"Topic6\", \"Topic6\", \"Topic6\", \"Topic6\", \"Topic6\", \"Topic6\", \"Topic6\", \"Topic7\", \"Topic7\", \"Topic7\", \"Topic7\", \"Topic7\", \"Topic7\", \"Topic7\", \"Topic7\", \"Topic7\", \"Topic7\", \"Topic7\", \"Topic7\", \"Topic7\", \"Topic7\", \"Topic7\", \"Topic7\", \"Topic7\", \"Topic7\", \"Topic7\", \"Topic7\", \"Topic7\", \"Topic7\", \"Topic7\", \"Topic7\", \"Topic7\", \"Topic7\", \"Topic7\", \"Topic7\", \"Topic7\", \"Topic7\", \"Topic7\", \"Topic7\", \"Topic7\", \"Topic7\", \"Topic7\", \"Topic7\", \"Topic7\", \"Topic7\", \"Topic7\", \"Topic7\", \"Topic7\", \"Topic7\", \"Topic7\", \"Topic7\", \"Topic7\", \"Topic7\", \"Topic7\", \"Topic7\", \"Topic7\", \"Topic7\", \"Topic7\", \"Topic7\", \"Topic7\", \"Topic7\", \"Topic7\", \"Topic7\", \"Topic7\", \"Topic7\", \"Topic7\", \"Topic7\", \"Topic7\", \"Topic7\", \"Topic7\", \"Topic7\", \"Topic7\", \"Topic7\", \"Topic7\"], \"Freq\": [4254.0, 3219.0, 3578.0, 4042.0, 3468.0, 3302.0, 2663.0, 3669.0, 3889.0, 1785.0, 1383.0, 1610.0, 2108.0, 879.0, 890.0, 885.0, 1083.0, 828.0, 720.0, 743.0, 693.0, 1300.0, 639.0, 875.0, 1141.0, 529.0, 518.0, 678.0, 729.0, 623.0, 2108.130615234375, 372.5921630859375, 324.2215881347656, 246.82843017578125, 237.1543731689453, 231.34974670410156, 222.6431121826172, 183.9465789794922, 182.01181030273438, 179.1095428466797, 148.1522979736328, 3648.251708984375, 118.16259002685547, 114.29283905029297, 99.78164672851562, 95.91210174560547, 94.94465637207031, 93.00984954833984, 93.00983428955078, 92.04243469238281, 89.14020538330078, 85.2705307006836, 85.2705307006836, 81.40088653564453, 77.53123474121094, 77.53116607666016, 74.62893676757812, 74.62895202636719, 69.79193115234375, 69.79186248779297, 3772.215087890625, 258.4373474121094, 213.93641662597656, 116.22765350341797, 873.7119750976562, 424.84783935546875, 180.08609008789062, 149.1196746826172, 190.7185516357422, 213.94725036621094, 229.41725158691406, 212.00157165527344, 204.26507568359375, 143.31951904296875, 346.4718322753906, 331.9669189453125, 370.67059326171875, 317.4567565917969, 237.15525817871094, 195.56552124023438, 562.218505859375, 324.2182922363281, 253.60536193847656, 544.629638671875, 771.9061279296875, 259.37603759765625, 554.2980346679688, 245.8533935546875, 545.7738037109375, 381.1675109863281, 482.25054931640625, 404.8422546386719, 392.5519104003906, 477.7754821777344, 355.7865295410156, 381.8143005371094, 347.1095275878906, 369.8233947753906, 324.23291015625, 276.8199462890625, 268.0621337890625, 282.212158203125, 613.3543090820312, 3298.564453125, 475.28485107421875, 448.62322998046875, 431.4835205078125, 239.1386260986328, 208.66830444335938, 206.7638397216797, 179.15003967285156, 174.38902282714844, 169.62802124023438, 165.81915283203125, 165.81919860839844, 152.4883575439453, 3449.961669921875, 122.97010040283203, 121.06568145751953, 230.56884765625, 91.54743957519531, 82.02542877197266, 172.4845733642578, 175.3411865234375, 75.36001586914062, 72.50337982177734, 152.48831176757812, 69.64675903320312, 66.7901611328125, 62.98134994506836, 60.1247444152832, 58.220359802246094, 209.62049865722656, 459.0942687988281, 153.44058227539062, 212.47561645507812, 210.5727081298828, 294.3650207519531, 448.6231689453125, 677.148193359375, 208.66830444335938, 232.4730987548828, 546.6988525390625, 478.140869140625, 202.9491729736328, 208.66830444335938, 568.5584716796875, 485.7587585449219, 268.6569519042969, 486.70416259765625, 252.46946716308594, 218.19033813476562, 202.9484405517578, 345.7707824707031, 350.50018310546875, 274.3614807128906, 230.56814575195312, 297.1788635253906, 244.849853515625, 259.1265563964844, 293.3468017578125, 238.18185424804688, 221.0388641357422, 235.29554748535156, 622.4804077148438, 3572.93115234375, 475.4324645996094, 421.3568420410156, 84.56961822509766, 73.18524932861328, 73.18522644042969, 70.33907318115234, 66.54435729980469, 66.54435729980469, 62.74957275390625, 60.852169036865234, 59.90338897705078, 58.954776763916016, 57.05734634399414, 53.262596130371094, 1066.4715576171875, 50.416419982910156, 48.519107818603516, 208.84872436523438, 47.57035446166992, 47.57035446166992, 44.72431564331055, 44.72425079345703, 43.77556228637695, 43.77554702758789, 42.8269157409668, 41.878177642822266, 39.980751037597656, 39.032135009765625, 430.8438720703125, 423.2543029785156, 86.4669418334961, 66.54430389404297, 526.6622314453125, 427.0489807128906, 97.85130310058594, 67.4930419921875, 428.9462585449219, 102.59485626220703, 425.151611328125, 118.72280883789062, 95.95387268066406, 76.98005676269531, 117.77384185791016, 427.99774169921875, 261.02740478515625, 202.2081756591797, 655.685302734375, 112.08171081542969, 610.1484985351562, 299.9239807128906, 295.1807556152344, 156.670654296875, 177.54190063476562, 266.7197570800781, 211.69528198242188, 335.02691650390625, 286.6427001953125, 223.0797576904297, 241.10488891601562, 235.41249084472656, 220.2335205078125, 192.7211456298828, 224.97720336914062, 224.0287322998047, 201.25979614257812, 2661.2421875, 227.95974731445312, 227.0144500732422, 135.31736755371094, 87.10547637939453, 57.80022048950195, 54.964237213134766, 52.12824249267578, 52.12824249267578, 51.18290710449219, 50.23759460449219, 45.51091766357422, 95.61346435546875, 43.620262145996094, 34.16695022583008, 32.27629470825195, 67.2535629272461, 28.494972229003906, 94.66812133789062, 26.604312896728516, 26.604305267333984, 25.658977508544922, 25.65898323059082, 24.713653564453125, 24.713653564453125, 24.713647842407227, 23.768321990966797, 23.768321990966797, 23.7683162689209, 23.7683162689209, 518.406982421875, 50.267520904541016, 3727.696533203125, 97.54949188232422, 50.23759460449219, 36.057613372802734, 350.0561218261719, 156.123046875, 63.481998443603516, 42.67488098144531, 240.3385467529297, 63.50349426269531, 158.0557403564453, 448.5100402832031, 157.10577392578125, 54.051124572753906, 217.6319580078125, 275.2326965332031, 162.77610778808594, 257.28533935546875, 140.0504150390625, 369.8728942871094, 211.8966522216797, 269.5926818847656, 276.20745849609375, 272.4862976074219, 162.77142333984375, 212.87417602539062, 263.93011474609375, 193.9742889404297, 208.14306640625, 272.1981506347656, 156.16122436523438, 173.16358947753906, 153.3067169189453, 166.53897094726562, 158.01641845703125, 157.0983428955078, 432.883544921875, 431.0497741699219, 418.2139892578125, 418.2139892578125, 300.8572998046875, 299.9404602050781, 3210.018798828125, 516.3168334960938, 441.13525390625, 526.4022216796875, 1367.152587890625, 148.6604461669922, 66.1440658569336, 220.17462158203125, 59.726139068603516, 59.726131439208984, 162.41317749023438, 46.89025115966797, 44.13970947265625, 43.22286605834961, 706.1044921875, 416.3802795410156, 387.9579772949219, 353.1177062988281, 354.0346374511719, 218.34097290039062, 44.13970947265625, 44.13972473144531, 795.9557495117188, 65.22724914550781, 357.7019958496094, 694.185546875, 385.20745849609375, 299.94049072265625, 515.39990234375, 353.1178283691406, 219.2578582763672, 452.1375427246094, 516.3168334960938, 301.7742614746094, 790.4548950195312, 354.9515075683594, 420.9645080566406, 431.04986572265625, 526.40234375, 356.78515625, 394.37603759765625, 878.8276977539062, 217.28541564941406, 217.2853546142578, 166.89085388183594, 136.65415954589844, 878.95458984375, 635.1718139648438, 882.5839233398438, 76.18079376220703, 76.1807632446289, 167.80711364746094, 63.353092193603516, 125.67622375488281, 122.01117706298828, 54.1904411315918, 52.357906341552734, 52.3578987121582, 681.902099609375, 159.56036376953125, 47.776588439941406, 45.94408416748047, 45.027801513671875, 44.11153793334961, 42.27901077270508, 42.27901840209961, 41.36275100708008, 38.61397171020508, 1741.031982421875, 26.70254135131836, 25.78626823425293, 3868.16796875, 195.31558227539062, 159.56748962402344, 1402.591552734375, 113.75938415527344, 557.870849609375, 114.67538452148438, 609.5932006835938, 278.09906005859375, 72.52323150634766, 666.6442260742188, 200.67877197265625, 521.8009033203125, 209.67926025390625, 198.9780731201172, 101.13458251953125, 228.2914276123047, 182.7374267578125, 171.23817443847656, 273.42791748046875, 111.9318618774414, 66.67739868164062, 57.80400085449219, 47.1558837890625, 39.169803619384766, 39.169795989990234, 39.16978073120117, 38.2824592590332, 37.39512634277344, 35.62043380737305, 417.1774597167969, 32.958404541015625, 26.74702262878418, 26.74701499938965, 26.74700164794922, 118.14324951171875, 23.197660446166992, 23.19765281677246, 21.422954559326172, 245.9205322265625, 20.535634994506836, 18.76093864440918, 40.05716323852539, 17.873594284057617, 17.873594284057617, 290.2876892089844, 16.98625946044922, 16.98625946044922, 16.09892463684082, 68.45211791992188, 28.521709442138672, 33.84575653076172, 45.381195068359375, 50.70524597167969, 74.66345977783203, 93.29769134521484, 84.42427825927734, 206.87754821777344, 128.79136657714844, 75.55087280273438, 107.49518585205078, 34.73311996459961, 191.7926788330078, 136.77748107910156, 204.21539306640625, 67.56478118896484, 111.04462432861328, 86.19901275634766, 113.70670318603516, 79.10021209716797, 61.3533935546875, 68.45211791992188, 178.48263549804688, 163.3990936279297, 105.72065734863281, 130.56640625, 77.32557678222656, 102.17163848876953, 103.05889129638672, 83.5370101928711, 89.7485122680664, 90.63606262207031, 87.08674621582031, 87.08653259277344, 83.53742218017578, 79.98797607421875], \"Term\": [\"wendi\", \"dennysdin\", \"domino\", \"mcdonald\", \"dunkindonut\", \"crackerbarrel\", \"redrobinburg\", \"chipotletweet\", \"starbuck\", \"vote\", \"denni\", \"pick\", \"potbelli\", \"woodenaward\", \"teamfresh\", \"cast\", \"pizza\", \"gravi\", \"crowd\", \"pancak\", \"bracket\", \"call\", \"easiest\", \"team\", \"ever\", \"haiku\", \"bath\", \"warm\", \"offer\", \"amarch4ourl\", \"potbelli\", \"parkselyoung\", \"asvang\", \"jghosti\", \"fraternita\", \"boat\", \"k_smith31\", \"packa\", \"fling\", \"backpack\", \"nyknick\", \"chipotletweet\", \"sugashero\", \"dalatnyk\", \"cantstop\", \"jhope\", \"lucyntheboy\", \"kooki\", \"suga\", \"chim\", \"yonggum\", \"whiskerswednesday\", \"fluff\", \"mikehudema\", \"guac\", \"chicagobul\", \"chicagoland\", \"realtrueclass\", \"2015\", \"pouyalilp\", \"starbuck\", \"ninja\", \"footbal\", \"defeat\", \"burrito\", \"chipotl\", \"exam\", \"dallasmav\", \"stream\", \"youth\", \"cute\", \"camp\", \"strong\", \"lemon\", \"wing\", \"absolut\", \"perfect\", \"spring\", \"april\", \"studi\", \"sandwich\", \"probabl\", \"shop\", \"best\", \"order\", \"gotta\", \"today\", \"sponsor\", \"free\", \"thing\", \"love\", \"back\", \"know\", \"like\", \"never\", \"thank\", \"food\", \"time\", \"coffe\", \"littl\", \"mani\", \"make\", \"mattjackson13\", \"crackerbarrel\", \"biscuitclub\", \"allin\", \"scottymccreeri\", \"ddluckydozen\", \"verasweeney\", \"redid\", \"southernersay\", \"jay_eatz\", \"roarloud\", \"barnettejason\", \"bigalfish\", \"roadtripc\", \"dunkindonut\", \"oakridgeboy\", \"lightningrodrec\", \"sweepstak\", \"thirtytig\", \"nickjacksonyb\", \"dunkin\", \"timsamstravelu\", \"vinyl\", \"tonysolo\", \"frost\", \"timbuntley\", \"prodigalgamer64\", \"kirashek777\", \"pinkhairfloosi\", \"divinedetour\", \"cloth\", \"donut\", \"jpcacho\", \"dozen\", \"debut\", \"truth\", \"member\", \"celebr\", \"featur\", \"wear\", \"birthday\", \"found\", \"mint\", \"room\", \"coffe\", \"sweet\", \"tabl\", \"hope\", \"video\", \"five\", \"lucki\", \"want\", \"love\", \"even\", \"visit\", \"thank\", \"minut\", \"peopl\", \"like\", \"store\", \"green\", \"today\", \"amarch4ourl\", \"domino\", \"chefjoseandr\", \"foodforourl\", \"soniakont\", \"ableg\", \"cdnpoli\", \"mickeysview\", \"franklin_graham\", \"christianacinn\", \"dominos_india\", \"moniqu\", \"birmingham\", \"samcrac\", \"thinkfoodgroup\", \"nationalproposalday\", \"pizza\", \"eddiethecommish\", \"theflickpick\", \"shack\", \"kprc2taishaw\", \"beefsteak\", \"papajohn\", \"andpizza\", \"aldotcom\", \"jpabooth15\", \"dominos_uk\", \"tramscout42\", \"billgat\", \"sahmreview\", \"partnership\", \"feed\", \"poster\", \"thknwco\", \"student\", \"announc\", \"union\", \"carryout\", \"school\", \"piday\", \"high\", \"pizzahut\", \"incred\", \"canadian\", \"denver\", \"proud\", \"deliv\", \"deliveri\", \"come\", \"event\", \"order\", \"open\", \"burger\", \"next\", \"shake\", \"make\", \"wait\", \"like\", \"thank\", \"onli\", \"know\", \"good\", \"never\", \"first\", \"time\", \"free\", \"call\", \"redrobinburg\", \"lidl_ireland\", \"irishexamin\", \"robin\", \"trunk\", \"sadieisonfir\", \"bottomless\", \"andrewpitzel\", \"putinpunishesuk\", \"superpidg\", \"anygood\", \"buttermilkcrispytend\", \"carv\", \"mcdo_ph\", \"mainedcm\", \"quiz\", \"tavern\", \"fairway\", \"tree\", \"devdawg\", \"joshleyva\", \"underway\", \"starch\", \"dpost\", \"mcdonaldscorp\", \"pounder\", \"thesweetestheart\", \"spencerbogad\", \"samgolbach\", \"hallmarkchannel\", \"seattl\", \"chuckl\", \"mcdonald\", \"shamrock\", \"whatcha\", \"shamrockshak\", \"washington\", \"comment\", \"server\", \"tender\", \"okay\", \"rule\", \"answer\", \"burger\", \"build\", \"30am\", \"give\", \"hope\", \"leav\", \"food\", \"restaur\", \"order\", \"peopl\", \"time\", \"love\", \"free\", \"locat\", \"good\", \"like\", \"make\", \"thank\", \"wendi\", \"chanc\", \"back\", \"wait\", \"today\", \"want\", \"never\", \"nialloffici\", \"vevo\", \"flickerworldtour2018\", \"vevovip\", \"crouton\", \"croutoff\", \"dennysdin\", \"bath\", \"bird\", \"haiku\", \"denni\", \"wood\", \"grilli\", \"worm\", \"bride\", \"bridesmaid\", \"upon\", \"unnot\", \"breez\", \"bumper\", \"crowd\", \"exper\", \"prom\", \"balloon\", \"pour\", \"conveni\", \"crumpl\", \"tumbl\", \"gravi\", \"diner\", \"syrup\", \"pancak\", \"parent\", \"remov\", \"water\", \"reveal\", \"sleep\", \"cool\", \"warm\", \"salad\", \"call\", \"parti\", \"enter\", \"chanc\", \"need\", \"dinner\", \"come\", \"woodenaward\", \"jevon\", \"carter\", \"devont\", \"hhinthorn\", \"cast\", \"easiest\", \"teamfresh\", \"gsupanth\", \"zachkleinwsb\", \"graham\", \"finallysponsor\", \"bagley\", \"marvin\", \"shinsuken\", \"carsen\", \"edward\", \"bracket\", \"umbcathlet\", \"coachronhunt\", \"hyatt\", \"ayton\", \"deandr\", \"freshest\", \"farmwork\", \"keenan\", \"trae\", \"vote\", \"grower\", \"keita\", \"wendi\", \"dave\", \"await\", \"pick\", \"millsel\", \"offer\", \"teamfrozen\", \"team\", \"fresh\", \"itsjoshpeck\", \"ever\", \"singl\", \"great\", \"tweet\", \"beef\", \"face\", \"free\", \"like\", \"mcdonald\", \"slush\", \"donorschoos\", \"ariana2525\", \"limeaidsforlearn\", \"876642\", \"westonbergmann\", \"pretzel\", \"laurelstucki\", \"rachd1214\", \"picklejuiceforev\", \"slinger\", \"pickl\", \"corndog\", \"khou\", \"legiqn\", \"wkrn\", \"slushi\", \"tiffanykh\", \"dill\", \"karivanhorn\", \"juic\", \"limead\", \"kingtuckerc\", \"abc13houston\", \"stanley_tay17\", \"snicker\", \"sonic\", \"brynnadonn21\", \"hershenanigan\", \"llimit\", \"famou\", \"giveback\", \"throwback\", \"june\", \"abc7\", \"fruit\", \"introduc\", \"lover\", \"corn\", \"summer\", \"edit\", \"text\", \"cherri\", \"gift\", \"commerci\", \"card\", \"chili\", \"real\", \"favorit\", \"chees\", \"treat\", \"limit\", \"thursday\", \"like\", \"come\", \"enter\", \"today\", \"cream\", \"burger\", \"time\", \"littl\", \"back\", \"order\", \"call\", \"thank\", \"love\", \"sweet\"], \"Total\": [4254.0, 3219.0, 3578.0, 4042.0, 3468.0, 3302.0, 2663.0, 3669.0, 3889.0, 1785.0, 1383.0, 1610.0, 2108.0, 879.0, 890.0, 885.0, 1083.0, 828.0, 720.0, 743.0, 693.0, 1300.0, 639.0, 875.0, 1141.0, 529.0, 518.0, 678.0, 729.0, 623.0, 2108.927490234375, 373.38775634765625, 325.0170593261719, 247.6239471435547, 237.9498291015625, 232.14532470703125, 223.43861389160156, 184.7420196533203, 182.80722045898438, 179.9049835205078, 148.94773864746094, 3669.484375, 118.95793151855469, 115.08827209472656, 100.57706451416016, 96.70741271972656, 95.739990234375, 93.8051528930664, 93.80516052246094, 92.8377456665039, 89.93551635742188, 86.06586456298828, 86.06586456298828, 82.19619750976562, 78.32653045654297, 78.32654571533203, 75.42430114746094, 75.42432403564453, 70.58722686767578, 70.58722686767578, 3889.76123046875, 262.0140686035156, 217.53936767578125, 117.97178649902344, 905.14501953125, 437.9640808105469, 183.68692016601562, 151.80580139160156, 196.1927032470703, 222.31163024902344, 240.46603393554688, 226.98374938964844, 218.27207946777344, 149.7590789794922, 396.5249938964844, 378.4624938964844, 428.7485046386719, 369.8857727050781, 267.16571044921875, 214.14535522460938, 753.1460571289062, 399.4769592285156, 300.92529296875, 1036.990478515625, 2053.694091796875, 336.64935302734375, 1300.603515625, 308.8753356933594, 1391.2991943359375, 788.4203491210938, 1427.8607177734375, 999.8428344726562, 1008.556884765625, 1771.772216796875, 1020.5716552734375, 1343.120361328125, 1004.762939453125, 1279.6810302734375, 987.3644409179688, 491.54595947265625, 436.84661865234375, 1014.6978759765625, 614.1524047851562, 3302.9150390625, 476.0828857421875, 449.4211730957031, 432.281494140625, 239.9364471435547, 209.46597290039062, 207.5615234375, 179.9476776123047, 175.18667602539062, 170.4256591796875, 166.6167755126953, 166.6168212890625, 153.2859649658203, 3468.8984375, 123.76766204833984, 121.86326599121094, 232.2829132080078, 92.344970703125, 82.82294464111328, 174.1990966796875, 177.08755493164062, 76.15750122070312, 73.3009033203125, 154.20223999023438, 70.44428253173828, 67.58767700195312, 63.77886199951172, 60.92224884033203, 59.017852783203125, 214.2316436767578, 480.65460205078125, 158.032958984375, 221.49282836914062, 220.7107391357422, 318.84283447265625, 527.5918579101562, 837.1869506835938, 230.23037719726562, 260.0599060058594, 710.3197631835938, 610.9718627929688, 226.1879119873047, 237.30645751953125, 987.3644409179688, 808.315673828125, 346.9509582519531, 883.9884643554688, 344.9696960449219, 267.2699279785156, 234.3837890625, 985.1731567382812, 1427.8607177734375, 632.5247192382812, 354.4681701660156, 1343.120361328125, 511.1521301269531, 769.6564331054688, 1771.772216796875, 577.9473266601562, 315.65435791015625, 1300.603515625, 623.2798461914062, 3578.34375, 476.2314758300781, 422.1556396484375, 85.36763763427734, 73.9832534790039, 73.98323822021484, 71.13713073730469, 67.34235382080078, 67.34236145019531, 63.54756164550781, 61.6501579284668, 60.70145797729492, 59.75275802612305, 57.85536575317383, 54.06057357788086, 1083.12451171875, 51.214473724365234, 49.31707763671875, 212.30917358398438, 48.36836624145508, 48.36836624145508, 45.52228546142578, 45.52227783203125, 44.57358169555664, 44.57358169555664, 43.624881744384766, 42.676185607910156, 40.77878189086914, 39.8300895690918, 440.2471618652344, 442.56793212890625, 89.1998519897461, 68.30975341796875, 595.8593139648438, 481.0621032714844, 103.39815521240234, 70.19544219970703, 495.9294738769531, 109.09237670898438, 500.60736083984375, 128.47430419921875, 103.39875030517578, 81.55925750732422, 135.0181121826172, 669.607421875, 366.3755798339844, 267.9921569824219, 1619.6815185546875, 148.92564392089844, 2053.694091796875, 701.8248291015625, 928.611328125, 323.96978759765625, 441.52056884765625, 1014.6978759765625, 640.9419555664062, 1771.772216796875, 1343.120361328125, 752.8767700195312, 1008.556884765625, 983.9190063476562, 1020.5716552734375, 701.752197265625, 1279.6810302734375, 1391.2991943359375, 1300.159423828125, 2663.959228515625, 228.75845336914062, 227.81314086914062, 136.11590576171875, 87.90399932861328, 58.59868621826172, 55.762699127197266, 52.926700592041016, 52.92670440673828, 51.98136901855469, 51.03605651855469, 46.30937576293945, 97.2993392944336, 44.4187126159668, 34.965389251708984, 33.07473373413086, 69.000732421875, 29.293405532836914, 97.38275146484375, 27.402740478515625, 27.402738571166992, 26.45740509033203, 26.457408905029297, 25.5120792388916, 25.512081146240234, 25.512075424194336, 24.566747665405273, 24.56674575805664, 24.566741943359375, 24.566743850708008, 548.6817016601562, 51.98802185058594, 4042.4033203125, 103.8498764038086, 52.81073760986328, 37.743404388427734, 404.10595703125, 175.74462890625, 70.9276123046875, 46.29405212402344, 326.2351989746094, 74.41925048828125, 225.11634826660156, 928.611328125, 277.363037109375, 66.21331787109375, 549.892333984375, 883.9884643554688, 432.2843933105469, 1004.762939453125, 337.6859130859375, 2053.694091796875, 769.6564331054688, 1279.6810302734375, 1427.8607177734375, 1391.2991943359375, 520.7899780273438, 983.9190063476562, 1771.772216796875, 1014.6978759765625, 1343.120361328125, 4254.580078125, 633.5111694335938, 999.8428344726562, 640.9419555664062, 1300.603515625, 985.1731567382812, 1020.5716552734375, 433.6865539550781, 431.85284423828125, 419.0169677734375, 419.0169677734375, 301.66015625, 300.74334716796875, 3219.35302734375, 518.065185546875, 442.8835754394531, 529.14013671875, 1383.0953369140625, 150.41531372070312, 66.94661712646484, 222.9121856689453, 60.528682708740234, 60.52867889404297, 165.11337280273438, 47.692779541015625, 44.942237854003906, 44.025386810302734, 720.183349609375, 425.7201232910156, 397.24810791015625, 362.42864990234375, 367.20526123046875, 226.7896728515625, 45.8875617980957, 45.909645080566406, 828.9050903320312, 67.93419647216797, 379.5251770019531, 743.5097045898438, 409.36065673828125, 327.9803466796875, 608.4276123046875, 415.5860595703125, 254.3388671875, 571.4598388671875, 678.9581298828125, 374.9568176269531, 1300.159423828125, 474.61273193359375, 604.8331909179688, 633.5111694335938, 1264.674560546875, 619.4873046875, 1619.6815185546875, 879.6317749023438, 218.0883331298828, 218.0883026123047, 167.69374084472656, 137.45697021484375, 885.0899658203125, 639.6876831054688, 890.8787841796875, 76.98346710205078, 76.98345947265625, 169.57737731933594, 64.15575408935547, 127.40657043457031, 123.74152374267578, 54.993099212646484, 53.16056442260742, 53.16055679321289, 693.1077270507812, 162.2327117919922, 48.5792350769043, 46.74671173095703, 45.830440521240234, 44.91416931152344, 43.081642150878906, 43.08164978027344, 42.16537857055664, 39.416587829589844, 1785.958251953125, 27.50513458251953, 26.588871002197266, 4254.580078125, 205.60488891601562, 168.92227172851562, 1610.061279296875, 120.22196197509766, 729.5872192382812, 128.72296142578125, 875.946533203125, 363.2710266113281, 78.99016571044922, 1141.626220703125, 287.494873046875, 1035.36083984375, 398.0542907714844, 410.6022033691406, 153.86981201171875, 1391.2991943359375, 1771.772216796875, 4042.4033203125, 274.2357482910156, 112.73893737792969, 67.48433685302734, 58.61088180541992, 47.962730407714844, 39.97663116455078, 39.976627349853516, 39.976627349853516, 39.08928298950195, 38.201942443847656, 36.427249908447266, 427.38006591796875, 33.76521301269531, 27.553802490234375, 27.553802490234375, 27.553800582885742, 121.75029754638672, 24.004419326782227, 24.004417419433594, 22.229726791381836, 255.2068328857422, 21.342382431030273, 19.567691802978516, 41.812679290771484, 18.68034553527832, 18.680347442626953, 303.4250183105469, 17.793001174926758, 17.793006896972656, 16.905656814575195, 74.00777435302734, 30.295900344848633, 36.572181701660156, 49.989986419677734, 56.26613235473633, 85.90343475341797, 110.40625, 100.5487060546875, 291.5969543457031, 177.11770629882812, 95.1875228881836, 144.67218017578125, 38.41172409057617, 344.566650390625, 223.37847900390625, 402.9285888671875, 97.86553955078125, 341.98974609375, 249.55853271484375, 497.59002685546875, 211.92144775390625, 118.90070343017578, 155.8395538330078, 1771.772216796875, 1619.6815185546875, 604.8331909179688, 1300.603515625, 237.15972900390625, 928.611328125, 1279.6810302734375, 491.54595947265625, 999.8428344726562, 2053.694091796875, 1300.159423828125, 1343.120361328125, 1427.8607177734375, 808.315673828125], \"loglift\": [30.0, 29.0, 28.0, 27.0, 26.0, 25.0, 24.0, 23.0, 22.0, 21.0, 20.0, 19.0, 18.0, 17.0, 16.0, 15.0, 14.0, 13.0, 12.0, 11.0, 10.0, 9.0, 8.0, 7.0, 6.0, 5.0, 4.0, 3.0, 2.0, 1.0, 1.354699969291687, 1.3530000448226929, 1.3525999784469604, 1.3518999814987183, 1.351699948310852, 1.351699948310852, 1.3515000343322754, 1.3508000373840332, 1.3507000207901, 1.3507000207901, 1.3496999740600586, 1.3493000268936157, 1.3483999967575073, 1.3481999635696411, 1.3472000360488892, 1.3467999696731567, 1.3467999696731567, 1.34660005569458, 1.34660005569458, 1.346500039100647, 1.3461999893188477, 1.3458000421524048, 1.3458000421524048, 1.3453999757766724, 1.3449000120162964, 1.3449000120162964, 1.344499945640564, 1.344499945640564, 1.3437999486923218, 1.3437999486923218, 1.3243999481201172, 1.3413000106811523, 1.3384000062942505, 1.3401999473571777, 1.319700002670288, 1.3246999979019165, 1.3352999687194824, 1.3372000455856323, 1.326799988746643, 1.3166999816894531, 1.3080999851226807, 1.2868000268936157, 1.2888000011444092, 1.3111000061035156, 1.2201999425888062, 1.2239999771118164, 1.2094999551773071, 1.2022000551223755, 1.2359000444412231, 1.264299988746643, 1.0627000331878662, 1.146399974822998, 1.184000015258789, 0.7110999822616577, 0.3765999972820282, 1.0943000316619873, 0.5022000074386597, 1.1268999576568604, 0.41929998993873596, 0.6283000111579895, 0.2696000039577484, 0.45100000500679016, 0.4115000069141388, 0.04450000077486038, 0.3012999892234802, 0.09730000048875809, 0.2921999990940094, 0.11379999667406082, 0.24150000512599945, 0.7809000015258789, 0.8666999936103821, 0.07540000230073929, 1.753600001335144, 1.753600001335144, 1.7532000541687012, 1.753100037574768, 1.753100037574768, 1.7516000270843506, 1.751099944114685, 1.751099944114685, 1.750499963760376, 1.7503000497817993, 1.7502000331878662, 1.750100016593933, 1.750100016593933, 1.7496999502182007, 1.749400019645691, 1.7483999729156494, 1.7482999563217163, 1.747499942779541, 1.7461999654769897, 1.7452000379562378, 1.7450000047683716, 1.7450000047683716, 1.7444000244140625, 1.74399995803833, 1.7437000274658203, 1.743499994277954, 1.7430000305175781, 1.742300033569336, 1.7417000532150269, 1.7412999868392944, 1.733199954032898, 1.7089999914169312, 1.7253999710083008, 1.7132999897003174, 1.707900047302246, 1.6749999523162842, 1.5928000211715698, 1.542799949645996, 1.656599998474121, 1.642799973487854, 1.4931000471115112, 1.5097999572753906, 1.6464999914169312, 1.6262999773025513, 1.2029999494552612, 1.2457000017166138, 1.4991999864578247, 1.1581000089645386, 1.4427000284194946, 1.5520000457763672, 1.6109000444412231, 0.7078999876976013, 0.35030001401901245, 0.9196000099182129, 1.3248000144958496, 0.24650000035762787, 1.0189000368118286, 0.6662999987602234, -0.04349999874830246, 0.8684999942779541, 1.3985999822616577, 0.04520000144839287, 1.8286000490188599, 1.8284000158309937, 1.8281999826431274, 1.8279999494552612, 1.8205000162124634, 1.819000005722046, 1.819000005722046, 1.818600058555603, 1.8179999589920044, 1.8179999589920044, 1.817199945449829, 1.8167999982833862, 1.81659996509552, 1.8164000511169434, 1.815999984741211, 1.815000057220459, 1.8143999576568604, 1.8142000436782837, 1.813599944114685, 1.8134000301361084, 1.8131999969482422, 1.8131999969482422, 1.8121999502182007, 1.8121999502182007, 1.8118000030517578, 1.8118000030517578, 1.811400055885315, 1.8109999895095825, 1.8100999593734741, 1.8095999956130981, 1.8083000183105469, 1.7853000164031982, 1.798799991607666, 1.8036999702453613, 1.7064000368118286, 1.710800051689148, 1.7747000455856323, 1.7905999422073364, 1.6848000288009644, 1.7684999704360962, 1.6664999723434448, 1.7509000301361084, 1.7551000118255615, 1.7720999717712402, 1.6931999921798706, 1.3823000192642212, 1.4908000230789185, 1.548200011253357, 0.925599992275238, 1.545699954032898, 0.6161999702453613, 0.9797000288963318, 0.6837999820709229, 1.1033999919891357, 0.9189000129699707, 0.4936999976634979, 0.722100019454956, 0.16429999470710754, 0.28540000319480896, 0.6134999990463257, 0.39879998564720154, 0.39969998598098755, 0.2964000105857849, 0.5375000238418579, 0.09149999916553497, 0.003700000001117587, -0.03579999879002571, 1.8961999416351318, 1.8937000036239624, 1.8937000036239624, 1.8912999629974365, 1.888100028038025, 1.8834999799728394, 1.8827999830245972, 1.8819999694824219, 1.8819999694824219, 1.881700038909912, 1.8813999891281128, 1.8797999620437622, 1.879699945449829, 1.87909996509552, 1.8740999698638916, 1.8727999925613403, 1.871500015258789, 1.8696000576019287, 1.868899941444397, 1.8675999641418457, 1.8675999641418457, 1.8666000366210938, 1.8666000366210938, 1.865399956703186, 1.865399956703186, 1.865399956703186, 1.8641999959945679, 1.8641999959945679, 1.8641999959945679, 1.8641999959945679, 1.840399980545044, 1.8634999990463257, 1.816100001335144, 1.8345999717712402, 1.8472000360488892, 1.8515000343322754, 1.753600001335144, 1.7788000106811523, 1.7862999439239502, 1.8157999515533447, 1.591599941253662, 1.7386000156402588, 1.5434999465942383, 1.1693999767303467, 1.3287999629974365, 1.694200038909912, 0.970300018787384, 0.730400025844574, 0.9204999804496765, 0.5349000096321106, 1.0170999765396118, 0.18299999833106995, 0.6072999835014343, 0.33970001339912415, 0.25440001487731934, 0.2667999863624573, 0.7342000007629395, 0.36640000343322754, -0.006899999920278788, 0.2425999939441681, 0.03269999846816063, -0.8519999980926514, 0.4968000054359436, 0.14380000531673431, 0.4666999876499176, -0.1581999957561493, 0.06710000336170197, 0.02590000070631504, 2.345400094985962, 2.345400094985962, 2.345400094985962, 2.345400094985962, 2.344599962234497, 2.344599962234497, 2.344399929046631, 2.343899965286255, 2.3433001041412354, 2.342099905014038, 2.335700035095215, 2.335599899291992, 2.335200071334839, 2.33489990234375, 2.3340001106262207, 2.3340001106262207, 2.3308000564575195, 2.3303000926971436, 2.3292999267578125, 2.328900098800659, 2.3276000022888184, 2.3250999450683594, 2.3236000537872314, 2.3213000297546387, 2.310800075531006, 2.309299945831299, 2.308500051498413, 2.308000087738037, 2.3066999912261963, 2.3066000938415527, 2.288100004196167, 2.278700113296509, 2.2864999771118164, 2.2578999996185303, 2.1814000606536865, 2.1844000816345215, 2.198899984359741, 2.113100051879883, 2.073499917984009, 2.130199909210205, 1.8496999740600586, 2.05679988861084, 1.9848999977111816, 1.9622000455856323, 1.4708000421524048, 1.7955000400543213, 0.9345999956130981, 2.35509991645813, 2.352400064468384, 2.352400064468384, 2.3512001037597656, 2.3501999378204346, 2.349100112915039, 2.3489999771118164, 2.3466999530792236, 2.345599889755249, 2.345599889755249, 2.3454999923706055, 2.343400001525879, 2.342400074005127, 2.3420000076293945, 2.3413000106811523, 2.3408000469207764, 2.3408000469207764, 2.3396999835968018, 2.339400053024292, 2.339400053024292, 2.33870005607605, 2.338399887084961, 2.3380000591278076, 2.3371999263763428, 2.3371999263763428, 2.3368000984191895, 2.3355000019073486, 2.3306000232696533, 2.3264000415802, 2.3254001140594482, 2.2607998847961426, 2.3046998977661133, 2.299099922180176, 2.218100070953369, 2.300800085067749, 2.0876998901367188, 2.240499973297119, 1.993499994277954, 2.088900089263916, 2.2706000804901123, 1.8180999755859375, 1.996500015258789, 1.670799970626831, 1.715000033378601, 1.631600022315979, 1.936400055885315, 0.5486999750137329, 0.0843999981880188, -0.8054999709129333, 2.6807000637054443, 2.676500082015991, 2.6717000007629395, 2.669800043106079, 2.6666998863220215, 2.663300037384033, 2.663300037384033, 2.663300037384033, 2.6628000736236572, 2.662400007247925, 2.66129994392395, 2.6594998836517334, 2.6594998836517334, 2.6540000438690186, 2.6540000438690186, 2.6540000438690186, 2.653599977493286, 2.6494998931884766, 2.6494998931884766, 2.646699905395508, 2.6466000080108643, 2.64520001411438, 2.6415998935699463, 2.6407999992370605, 2.6396000385284424, 2.6396000385284424, 2.639400005340576, 2.6373000144958496, 2.6373000144958496, 2.6347999572753906, 2.6057000160217285, 2.6233999729156494, 2.6061999797821045, 2.5869998931884766, 2.5796000957489014, 2.5434999465942383, 2.5153000354766846, 2.5088999271392822, 2.3405001163482666, 2.3650999069213867, 2.452699899673462, 2.386699914932251, 2.5829999446868896, 2.0978000164031982, 2.19320011138916, 2.0041000843048096, 2.313199996948242, 1.5587999820709229, 1.6207000017166138, 1.2074999809265137, 1.698199987411499, 2.0220999717712402, 1.8609999418258667, 0.38850000500679016, 0.38989999890327454, 0.9394999742507935, 0.38499999046325684, 1.562999963760376, 0.4767000079154968, 0.16459999978542328, 0.9114000201225281, 0.27309998869895935, -0.4368000030517578, -0.019600000232458115, -0.05220000073313713, -0.15489999949932098, 0.37059998512268066], \"logprob\": [30.0, 29.0, 28.0, 27.0, 26.0, 25.0, 24.0, 23.0, 22.0, 21.0, 20.0, 19.0, 18.0, 17.0, 16.0, 15.0, 14.0, 13.0, 12.0, 11.0, 10.0, 9.0, 8.0, 7.0, 6.0, 5.0, 4.0, 3.0, 2.0, 1.0, -3.677999973297119, -5.410999774932861, -5.550099849700928, -5.822800159454346, -5.862800121307373, -5.887599945068359, -5.926000118255615, -6.1168999671936035, -6.127500057220459, -6.143499851226807, -6.3333001136779785, -3.129499912261963, -6.559500217437744, -6.592800140380859, -6.728499889373779, -6.768099784851074, -6.778200149536133, -6.798799991607666, -6.798799991607666, -6.809299945831299, -6.841300010681152, -6.885700225830078, -6.885700225830078, -6.93209981918335, -6.980800151824951, -6.980800151824951, -7.019000053405762, -7.019000053405762, -7.085999965667725, -7.085999965667725, -3.096100091934204, -5.776899814605713, -5.965799808502197, -6.576000213623047, -4.558800220489502, -5.279799938201904, -6.1381001472473145, -6.3267998695373535, -6.080699920654297, -5.965799808502197, -5.895999908447266, -5.974899768829346, -6.0121002197265625, -6.366399765014648, -5.483699798583984, -5.526500225067139, -5.416200160980225, -5.571199893951416, -5.862800121307373, -6.055600166320801, -4.999599933624268, -5.550099849700928, -5.7957000732421875, -5.031400203704834, -4.682700157165527, -5.773200035095215, -5.013800144195557, -5.8267998695373535, -5.029300212860107, -5.388299942016602, -5.15310001373291, -5.328000068664551, -5.35890007019043, -5.162399768829346, -5.457200050354004, -5.386600017547607, -5.481900215148926, -5.418499946594238, -5.550099849700928, -5.708199977874756, -5.740300178527832, -5.688899993896484, -4.512800216674805, -2.8304998874664307, -4.7677998542785645, -4.825500011444092, -4.864500045776367, -5.454699993133545, -5.591000080108643, -5.600100040435791, -5.743500232696533, -5.770400047302246, -5.798099994659424, -5.820799827575684, -5.820799827575684, -5.904600143432617, -2.785599946975708, -6.119800090789795, -6.13539981842041, -5.491199970245361, -6.41480016708374, -6.524700164794922, -5.781400203704834, -5.764999866485596, -6.609399795532227, -6.648099899291992, -5.904600143432617, -6.688300132751465, -6.730100154876709, -6.788899898529053, -6.835299968719482, -6.867499828338623, -5.586400032043457, -4.8024001121521, -5.898399829864502, -5.57289981842041, -5.581900119781494, -5.2469000816345215, -4.825500011444092, -4.41379976272583, -5.591000080108643, -5.482900142669678, -4.627799987792969, -4.7617998123168945, -5.61870002746582, -5.591000080108643, -4.588600158691406, -4.745999813079834, -5.3383002281188965, -4.74399995803833, -5.400400161743164, -5.546299934387207, -5.618800163269043, -5.085899829864502, -5.072299957275391, -5.317299842834473, -5.491199970245361, -5.237400054931641, -5.431099891662598, -5.3744001388549805, -5.25029993057251, -5.458700180053711, -5.533400058746338, -5.470900058746338, -4.422999858856201, -2.675600051879883, -4.692500114440918, -4.813300132751465, -6.4191999435424805, -6.563799858093262, -6.563799858093262, -6.603400230407715, -6.658899784088135, -6.658899784088135, -6.717599868774414, -6.748300075531006, -6.763999938964844, -6.78000020980835, -6.812699794769287, -6.881499767303467, -3.8845999240875244, -6.936399936676025, -6.974800109863281, -5.515100002288818, -6.994500160217285, -6.994500160217285, -7.05620002746582, -7.05620002746582, -7.077700138092041, -7.077700138092041, -7.099599838256836, -7.122000217437744, -7.168300151824951, -7.192399978637695, -4.790999889373779, -4.808800220489502, -6.396999835968018, -6.658899784088135, -4.590199947357178, -4.799799919128418, -6.2733001708984375, -6.644700050354004, -4.795400142669678, -6.22599983215332, -4.804299831390381, -6.079999923706055, -6.292900085449219, -6.513199806213379, -6.0879998207092285, -4.797599792480469, -5.292099952697754, -5.547399997711182, -4.371099948883057, -6.137499809265137, -4.442999839782715, -5.153200149536133, -5.1691999435424805, -5.802599906921387, -5.677499771118164, -5.270500183105469, -5.5015997886657715, -5.042500019073486, -5.198500156402588, -5.44920015335083, -5.371500015258789, -5.395400047302246, -5.462100028991699, -5.5954999923706055, -5.440700054168701, -5.445000171661377, -5.55210018157959, -2.902899980545044, -5.360300064086914, -5.3643999099731445, -5.881800174713135, -6.322299957275391, -6.732399940490723, -6.782700061798096, -6.835700035095215, -6.835700035095215, -6.854000091552734, -6.872700214385986, -6.971499919891357, -6.229100227355957, -7.013899803161621, -7.258200168609619, -7.315100193023682, -6.580999851226807, -7.439700126647949, -6.238999843597412, -7.508399963378906, -7.508399963378906, -7.54449987411499, -7.54449987411499, -7.582099914550781, -7.582099914550781, -7.582099914550781, -7.621099948883057, -7.621099948883057, -7.621099948883057, -7.621099948883057, -4.538700103759766, -6.872099876403809, -2.5659000873565674, -6.209099769592285, -6.872700214385986, -7.2042999267578125, -4.931300163269043, -5.738800048828125, -6.638700008392334, -7.035799980163574, -5.307400226593018, -6.638299942016602, -5.726500034332275, -4.683499813079834, -5.732500076293945, -6.799499988555908, -5.406599998474121, -5.171800136566162, -5.697000026702881, -5.239200115203857, -5.847400188446045, -4.876299858093262, -5.433300018310547, -5.192500114440918, -5.168300151824951, -5.18179988861084, -5.6971001625061035, -5.428699970245361, -5.213699817657471, -5.521699905395508, -5.451200008392334, -5.1828999519348145, -5.738500118255615, -5.635200023651123, -5.756999969482422, -5.674200057983398, -5.7266998291015625, -5.732600212097168, -4.268799781799316, -4.273099899291992, -4.303299903869629, -4.303299903869629, -4.632699966430664, -4.635700225830078, -2.2653000354766846, -4.092599868774414, -4.25, -4.073200225830078, -3.118799924850464, -5.337699890136719, -6.147500038146973, -4.944900035858154, -6.249499797821045, -6.249499797821045, -5.249199867248535, -6.491499900817871, -6.552000045776367, -6.57289981842041, -3.779599905014038, -4.307700157165527, -4.378399848937988, -4.472499847412109, -4.469900131225586, -4.9532999992370605, -6.552000045776367, -6.552000045776367, -3.6598000526428223, -6.161399841308594, -4.45959997177124, -3.796600103378296, -4.385499954223633, -4.635700225830078, -4.094399929046631, -4.472499847412109, -4.949100017547607, -4.225299835205078, -4.092599868774414, -4.6296000480651855, -3.6666998863220215, -4.467299938201904, -4.296800136566162, -4.273099899291992, -4.073200225830078, -4.462200164794922, -4.361999988555908, -3.552000045776367, -4.949399948120117, -4.949399948120117, -5.213200092315674, -5.413099765777588, -3.551800012588501, -3.876699924468994, -3.5476999282836914, -5.997499942779541, -5.997499942779541, -5.207799911499023, -6.1819000244140625, -5.4969000816345215, -5.526500225067139, -6.338099956512451, -6.372499942779541, -6.372499942779541, -3.8057000637054443, -5.258200168609619, -6.464000225067139, -6.503200054168701, -6.5233001708984375, -6.543900012969971, -6.586299896240234, -6.586299896240234, -6.6082000732421875, -6.677000045776367, -2.868299961090088, -7.04580020904541, -7.080699920654297, -2.069999933242798, -5.056000232696533, -5.2581000328063965, -3.0845000743865967, -5.596499919891357, -4.006400108337402, -5.588500022888184, -3.917799949645996, -4.702600002288818, -6.0467000007629395, -3.8282999992370605, -5.028900146484375, -4.073299884796143, -4.985000133514404, -5.037399768829346, -5.714099884033203, -4.900000095367432, -5.122499942779541, -5.1875, -4.391900062561035, -5.284999847412109, -5.803100109100342, -5.945899963378906, -6.149499893188477, -6.335000038146973, -6.335000038146973, -6.335000038146973, -6.357900142669678, -6.381400108337402, -6.429999828338623, -3.969399929046631, -6.507699966430664, -6.7164998054504395, -6.7164998054504395, -6.7164998054504395, -5.230999946594238, -6.85890007019043, -6.85890007019043, -6.938499927520752, -4.497900009155273, -6.980800151824951, -7.071100234985352, -6.312600135803223, -7.11959981918335, -7.11959981918335, -4.331999778747559, -7.170499801635742, -7.170499801635742, -7.2241997718811035, -5.776800155639648, -6.652299880981445, -6.481100082397461, -6.18779993057251, -6.076900005340576, -5.689899921417236, -5.467100143432617, -5.5671000480651855, -4.67080020904541, -5.144700050354004, -5.678100109100342, -5.325500011444092, -6.4552001953125, -4.746500015258789, -5.08459997177124, -4.683700084686279, -5.78980016708374, -5.293000221252441, -5.546299934387207, -5.2692999839782715, -5.632199764251709, -5.886300086975098, -5.776800155639648, -4.818399906158447, -4.906700134277344, -5.342100143432617, -5.13100004196167, -5.654900074005127, -5.376299858093262, -5.367599964141846, -5.577600002288818, -5.505899906158447, -5.496099948883057, -5.535999774932861, -5.535999774932861, -5.577600002288818, -5.620999813079834]}, \"token.table\": {\"Topic\": [1, 1, 2, 3, 4, 7, 7, 3, 7, 2, 3, 7, 3, 1, 2, 3, 4, 5, 6, 7, 3, 2, 3, 3, 4, 1, 2, 3, 4, 7, 1, 2, 3, 4, 5, 6, 7, 4, 1, 2, 3, 4, 5, 7, 7, 1, 1, 3, 4, 6, 6, 1, 2, 3, 4, 5, 6, 7, 1, 4, 6, 4, 5, 2, 4, 5, 1, 2, 3, 4, 5, 6, 7, 3, 1, 2, 3, 4, 5, 6, 7, 2, 3, 4, 5, 3, 1, 2, 3, 4, 5, 6, 7, 2, 1, 4, 1, 2, 3, 4, 6, 5, 5, 5, 7, 1, 2, 3, 4, 5, 6, 7, 5, 2, 3, 4, 5, 6, 7, 1, 3, 4, 7, 4, 1, 2, 3, 4, 5, 6, 7, 1, 3, 4, 1, 2, 3, 4, 6, 1, 1, 2, 3, 4, 5, 6, 7, 2, 3, 6, 6, 4, 7, 1, 4, 6, 7, 3, 1, 2, 3, 4, 5, 7, 1, 2, 3, 4, 5, 6, 7, 1, 2, 3, 4, 5, 6, 7, 3, 1, 2, 7, 1, 1, 1, 3, 4, 5, 6, 7, 1, 1, 2, 4, 6, 1, 3, 4, 6, 7, 3, 2, 4, 1, 2, 3, 6, 1, 2, 3, 4, 5, 7, 1, 2, 3, 4, 5, 6, 7, 1, 2, 3, 4, 7, 1, 2, 3, 4, 5, 6, 7, 1, 2, 3, 4, 5, 1, 2, 3, 4, 5, 6, 7, 1, 2, 3, 7, 7, 2, 7, 1, 2, 3, 4, 6, 7, 5, 5, 2, 3, 4, 5, 4, 5, 1, 2, 3, 4, 7, 1, 1, 4, 1, 3, 4, 6, 2, 6, 1, 2, 3, 7, 1, 3, 1, 2, 3, 4, 5, 6, 7, 1, 2, 3, 4, 5, 6, 7, 2, 3, 4, 5, 1, 2, 3, 4, 5, 6, 1, 3, 4, 6, 7, 2, 5, 1, 2, 3, 4, 5, 6, 7, 2, 3, 4, 7, 3, 3, 7, 1, 2, 3, 4, 7, 2, 4, 7, 4, 2, 5, 1, 2, 4, 7, 3, 4, 6, 3, 1, 2, 3, 4, 6, 7, 6, 1, 2, 3, 4, 5, 7, 1, 2, 3, 4, 5, 6, 7, 1, 2, 3, 4, 6, 1, 2, 3, 4, 5, 6, 7, 1, 2, 4, 5, 1, 2, 4, 5, 1, 2, 3, 4, 6, 7, 4, 1, 4, 7, 6, 1, 2, 3, 4, 5, 6, 7, 1, 2, 3, 4, 5, 7, 2, 3, 4, 5, 6, 7, 6, 1, 2, 3, 4, 5, 6, 7, 1, 2, 3, 4, 6, 7, 5, 1, 1, 1, 2, 3, 4, 5, 6, 7, 3, 1, 4, 5, 1, 2, 3, 4, 5, 6, 7, 3, 1, 1, 2, 3, 4, 5, 6, 7, 1, 2, 3, 4, 5, 6, 6, 2, 6, 2, 4, 7, 1, 2, 3, 4, 5, 6, 7, 1, 2, 3, 4, 5, 6, 7, 1, 7, 1, 2, 3, 4, 5, 6, 7, 1, 2, 3, 4, 5, 6, 7, 1, 6, 2, 4, 5, 7, 1, 2, 3, 4, 5, 6, 7, 1, 2, 3, 4, 6, 7, 5, 6, 6, 1, 1, 5, 4, 7, 6, 1, 2, 3, 4, 5, 6, 7, 1, 2, 3, 4, 5, 6, 7, 6, 1, 2, 3, 4, 5, 1, 3, 4, 7, 4, 4, 6, 2, 6, 1, 1, 4, 3, 2, 3, 1, 2, 4, 6, 7, 2, 4, 7, 1, 7, 6, 6, 7, 7, 2, 1, 2, 3, 4, 5, 6, 7, 1, 3, 7, 1, 2, 3, 4, 5, 6, 7, 7, 1, 2, 7, 4, 2, 1, 2, 3, 4, 5, 6, 7, 7, 7, 1, 2, 3, 4, 6, 7, 1, 2, 3, 4, 5, 6, 7, 7, 1, 2, 3, 4, 5, 6, 7, 1, 2, 3, 4, 5, 6, 7, 1, 2, 3, 4, 7, 1, 2, 3, 4, 7, 1, 4, 1, 2, 3, 4, 5, 6, 7, 1, 2, 3, 4, 5, 6, 7, 4, 6, 2, 4, 1, 2, 3, 4, 5, 6, 7, 4, 1, 2, 3, 4, 6, 3, 1, 4, 6, 1, 2, 4, 6, 7, 1, 2, 3, 4, 5, 6, 7, 3, 3, 1, 2, 3, 4, 5, 6, 7, 1, 2, 3, 4, 5, 6, 7, 1, 2, 3, 4, 5, 6, 7, 5, 2, 1, 3, 6, 1, 2, 1, 2, 3, 4, 5, 6, 7, 1, 2, 3, 4, 5, 6, 7, 1, 2, 3, 4, 5, 6, 7, 1, 2, 3, 4, 5, 6, 7, 1, 2, 3, 4, 5, 6, 7, 1, 1, 2, 4, 5, 6, 3, 1, 2, 3, 4, 5, 6, 7, 1, 1, 2, 3, 4, 5, 6, 7, 1, 3, 4, 7, 1, 2, 3, 4, 5, 6, 7, 1, 2, 3, 4, 5, 6, 7, 1, 2, 3, 4, 6, 7, 1, 2, 3, 4, 6, 7, 7, 2, 3, 4, 2, 1, 2, 3, 4, 6, 7, 1, 3, 7, 1, 3, 1, 4, 1, 2, 4, 5, 7, 1, 7, 1, 2, 3, 4, 5, 6, 7, 2, 1, 2, 4, 5, 7, 1, 2, 3, 4, 6, 7, 4, 4, 7, 1, 2, 3, 4, 5, 6, 7, 1, 2, 1, 3, 4, 1, 2, 3, 4, 5, 7, 1, 2, 3, 4, 5, 6, 7, 3, 5, 2, 2, 4, 1, 2, 4, 5, 7, 1, 2, 3, 4, 5, 6, 7, 4, 3, 1, 2, 3, 4, 5, 6, 3, 4, 1, 2, 3, 4, 5, 6, 7, 1, 2, 3, 4, 5, 6, 7, 2, 1, 2, 3, 4, 1, 2, 3, 4, 5, 3, 7, 1, 2, 3, 4, 6, 7, 2, 4, 6, 7, 4, 7, 6, 1, 2, 3, 4, 1, 2, 3, 4, 5, 6, 7, 1, 2, 3, 4, 5, 6, 7, 7, 1, 6, 7, 7, 3, 3, 4, 7, 2, 4, 1, 2, 3, 4, 5, 6, 7, 1, 2, 3, 4, 5, 6, 7, 7, 1, 2, 3, 4, 5, 4, 1, 2, 3, 4, 5, 6, 7, 1, 3, 4, 7, 1, 2, 3, 5, 1, 2, 3, 4, 6, 7, 1, 2, 4, 7, 1, 1, 1, 2, 3, 4, 7, 4, 2, 6, 1, 2, 3, 4, 6, 7, 1, 2, 3, 4, 5, 1, 2, 3, 4, 5, 6, 3, 4, 1, 2, 3, 4, 5, 6, 7, 1, 4, 6, 1, 4, 6, 2, 4, 6, 1, 2, 3, 4, 7, 1, 2, 3, 4, 5, 6, 7, 3, 4, 1, 2, 3, 4, 5, 6, 7, 3, 2, 1, 3, 1, 2, 7, 1, 2, 3, 4, 5, 7, 7, 2, 1, 2, 3, 4, 5, 6, 7, 2, 3, 1, 2, 3, 4, 5, 6, 7, 2, 6, 3, 1, 2, 3, 4, 5, 6, 7, 1, 3, 4, 4, 1, 2, 3, 4, 6, 1, 5, 1, 2, 3, 4, 5, 6, 7, 2, 5, 6, 4, 1, 3, 4, 5, 2, 4, 5, 2, 5, 5, 1, 2, 3, 4, 6, 7, 2, 1, 2, 3, 4, 5, 6, 7, 1, 2, 6, 1, 2, 3, 4, 5, 6, 7, 1, 2, 3, 4, 5, 6, 7, 1, 2, 3, 4, 5, 6, 7, 1, 2, 3, 4, 1, 2, 3, 4, 5, 6, 7, 1, 2, 3, 4, 5, 1, 2, 3, 4, 5, 6, 7, 7, 4, 7, 1, 1, 3, 4, 5, 7, 7, 2, 5, 6, 1, 5, 1, 1, 2, 3, 4, 6], \"Freq\": [0.9916808605194092, 0.10571891069412231, 0.01510270219296217, 0.03020540438592434, 0.815545916557312, 0.03020540438592434, 0.9799275398254395, 0.02391619049012661, 0.9566476345062256, 0.05331804230809212, 0.035545360296964645, 0.9064067006111145, 0.9867097735404968, 0.8772335648536682, 0.010569078847765923, 0.06077220290899277, 0.01585361920297146, 0.00792680960148573, 0.005284539423882961, 0.023780427873134613, 0.9871317744255066, 0.9990628361701965, 0.9979466199874878, 0.9885269999504089, 0.9824908971786499, 0.02494480460882187, 0.02078733779489994, 0.8876192569732666, 0.06444074213504791, 0.002078733639791608, 0.07107435911893845, 0.053305767476558685, 0.13770656287670135, 0.7018592953681946, 0.004442147444933653, 0.013326441869139671, 0.02221073769032955, 0.9796994924545288, 0.8870899081230164, 0.06363092362880707, 0.01871497742831707, 0.007485990412533283, 0.014971980825066566, 0.007485990412533283, 0.9928229451179504, 0.996870756149292, 0.01183976512402296, 0.01183976512402296, 0.02959941327571869, 0.947181224822998, 0.9818801283836365, 0.405063658952713, 0.13802169263362885, 0.09401477873325348, 0.1730271875858307, 0.051008015871047974, 0.0480075441300869, 0.09001414477825165, 0.9949696660041809, 0.007848888635635376, 0.9889599680900574, 0.024832474067807198, 0.9739848375320435, 0.9962982535362244, 0.001930259051732719, 0.9960136413574219, 0.036531709134578705, 0.1290787011384964, 0.019483577460050583, 0.16073951125144958, 0.002435447182506323, 0.4846540093421936, 0.1656104177236557, 0.992384135723114, 0.5255593061447144, 0.11089783906936646, 0.12054112553596497, 0.14079204201698303, 0.0077146319672465324, 0.04050181806087494, 0.05400242283940315, 0.9962979555130005, 0.9809022545814514, 0.0022579296492040157, 0.9957470297813416, 0.9884441494941711, 0.11966441571712494, 0.7700757384300232, 0.015485983341932297, 0.07461428642272949, 0.0042234500870108604, 0.0014078166568651795, 0.015485983341932297, 0.9977254271507263, 0.9950663447380066, 0.9863224029541016, 0.00432833144441247, 0.0014427771093323827, 0.0014427771093323827, 0.00865666288882494, 0.983974039554596, 0.9790344834327698, 0.991265594959259, 0.9912656545639038, 0.9554318189620972, 0.068502277135849, 0.021632298827171326, 0.3100629448890686, 0.5660451650619507, 0.021632298827171326, 0.0036053829826414585, 0.010816149413585663, 0.9767091870307922, 0.001076876767911017, 0.31767866015434265, 0.48351767659187317, 0.00538438418880105, 0.08291951566934586, 0.10984143614768982, 0.9655911326408386, 0.0011047953739762306, 0.007733567152172327, 0.02541029267013073, 0.9933193922042847, 0.08383587002754211, 0.023843230679631233, 0.15459643304347992, 0.03384200483560562, 0.6076177954673767, 0.029227184131741524, 0.0669148713350296, 0.933987557888031, 0.008811203762888908, 0.05286722257733345, 0.012261023744940758, 0.012261023744940758, 0.9440988302230835, 0.012261023744940758, 0.012261023744940758, 0.9942624568939209, 0.22336463630199432, 0.07941854000091553, 0.08190036565065384, 0.09430951625108719, 0.0024818293750286102, 0.012409146875143051, 0.5062931776046753, 0.028491878882050514, 0.9544779062271118, 0.9781687259674072, 0.9950097799301147, 0.9866459369659424, 0.010277561843395233, 0.0011298286262899637, 0.0011298286262899637, 0.9931193590164185, 0.004519314505159855, 0.9867100119590759, 0.058529339730739594, 0.8086605072021484, 0.05375143513083458, 0.027472956106066704, 0.0011944763828068972, 0.050168007612228394, 0.02841307409107685, 0.025256065651774406, 0.011049528606235981, 0.24624665081501007, 0.680335283279419, 0.006314016412943602, 0.003157008206471801, 0.10852307826280594, 0.1446974277496338, 0.21302677690982819, 0.11857150495052338, 0.15072649717330933, 0.0341646708548069, 0.22910426557064056, 0.9974141120910645, 0.026033718138933182, 0.052067436277866364, 0.9111801385879517, 0.9958309531211853, 0.9943744540214539, 0.13283531367778778, 0.07152670621871948, 0.07152670621871948, 0.010218101553618908, 0.03065430372953415, 0.6948308944702148, 0.9909762144088745, 0.9703992009162903, 0.025116214528679848, 0.002283292356878519, 0.002283292356878519, 0.9941450953483582, 0.0010900713969022036, 0.0029976963996887207, 0.0002725178492255509, 0.0013625893043354154, 0.9949160814285278, 0.019235199317336082, 0.9617599844932556, 0.004667844623327255, 0.9802473187446594, 0.014003533869981766, 0.9880765080451965, 0.3281463086605072, 0.5762816667556763, 0.0030383917037397623, 0.0769725888967514, 0.010127972811460495, 0.0050639864057302475, 0.0950804203748703, 0.07347123324871063, 0.4050178825855255, 0.054331667721271515, 0.24325770139694214, 0.027783239260315895, 0.10063707083463669, 0.0227602981030941, 0.0455205962061882, 0.0227602981030941, 0.8876516222953796, 0.0227602981030941, 0.13877791166305542, 0.05819718912243843, 0.05372048541903496, 0.1253477931022644, 0.004476706963032484, 0.01343012135475874, 0.613308846950531, 0.013228115625679493, 0.008818743750452995, 0.004409371875226498, 0.008818743750452995, 0.9612430930137634, 0.06124664843082428, 0.04899732023477554, 0.027998467907309532, 0.04549751058220863, 0.7909567356109619, 0.012249330058693886, 0.012249330058693886, 0.02743512950837612, 0.2572043240070343, 0.003429391188547015, 0.7098839282989502, 0.9773372411727905, 0.9988146424293518, 0.0012110514799132943, 0.18974553048610687, 0.19817867875099182, 0.04638224095106125, 0.21082837879657745, 0.02951597236096859, 0.32467570900917053, 0.9975283145904541, 0.9978116154670715, 0.0055541410110890865, 0.0055541410110890865, 0.00833121221512556, 0.9803059101104736, 0.021792396903038025, 0.9588655233383179, 0.952317476272583, 0.016634365543723106, 0.004158591385930777, 0.012475774623453617, 0.012475774623453617, 0.9905440211296082, 0.9815171957015991, 0.013174726627767086, 0.00972739513963461, 0.014591093175113201, 0.02431848831474781, 0.9484210014343262, 0.9960970878601074, 0.9796463251113892, 0.009061634540557861, 0.956002414226532, 0.022654086351394653, 0.013592451810836792, 0.9832859635353088, 0.008476602844893932, 0.11463645845651627, 0.08188318461179733, 0.7123837471008301, 0.0491299107670784, 0.00272943964228034, 0.027294395491480827, 0.013647197745740414, 0.12686938047409058, 0.04104597866535187, 0.7537534236907959, 0.06343469023704529, 0.0037314523942768574, 0.007462904788553715, 0.0037314523942768574, 0.000723015982657671, 0.001446031965315342, 0.008676191791892052, 0.9883627891540527, 0.0003106214280705899, 0.0009318642551079392, 0.0006212428561411798, 0.0006212428561411798, 0.9970947504043579, 0.0003106214280705899, 0.12590903043746948, 0.8739567995071411, 0.9853029251098633, 0.9958630204200745, 0.9581570029258728, 0.029440253973007202, 0.9568082690238953, 0.15335261821746826, 0.07425495237112045, 0.07586918771266937, 0.10169699788093567, 0.5762829780578613, 0.004842714406549931, 0.016142381355166435, 0.9827534556388855, 0.9985066652297974, 0.0008383766980841756, 0.0005589178181253374, 0.99138343334198, 0.9856760501861572, 0.9934455752372742, 0.004160991869866848, 0.9549477100372314, 0.020804960280656815, 0.016643967479467392, 0.004160991869866848, 0.9571415781974792, 0.018059276044368744, 0.02257409505546093, 0.9799279570579529, 0.9873759746551514, 0.005740557797253132, 0.003747587325051427, 0.9945520162582397, 0.0011531037744134665, 0.0005765518872067332, 0.0015632628928869963, 0.004689788445830345, 0.9926719069480896, 0.9762865304946899, 0.010505578480660915, 0.1050557866692543, 0.02101115696132183, 0.010505578480660915, 0.06303346902132034, 0.7984239459037781, 0.9781688451766968, 0.051253799349069595, 0.014880135655403137, 0.06117388978600502, 0.0016533484449610114, 0.6960597038269043, 0.1752549260854721, 0.1612585186958313, 0.4331846535205841, 0.14070595800876617, 0.1754872053861618, 0.014228693209588528, 0.03478125110268593, 0.039524145424366, 0.05371808260679245, 0.006714760325849056, 0.7520531415939331, 0.17458376288414001, 0.013429520651698112, 0.08409056812524796, 0.05956415459513664, 0.09547783434391022, 0.11825236678123474, 0.00788349099457264, 0.584254264831543, 0.049928776919841766, 0.9799282550811768, 0.005444045644253492, 0.005444045644253492, 0.005444045644253492, 0.0023489610757678747, 0.0023489610757678747, 0.01644272729754448, 0.9771677851676941, 0.11048301309347153, 0.08448700606822968, 0.05199200659990311, 0.06499000638723373, 0.6563990712165833, 0.03249500319361687, 0.9558465480804443, 0.01351209357380867, 0.05404837429523468, 0.9188224077224731, 0.9748930335044861, 0.18432550132274628, 0.26847410202026367, 0.0560990646481514, 0.06010613963007927, 0.008014151826500893, 0.07613444328308105, 0.3446085453033447, 0.0434347540140152, 0.9077863693237305, 0.008686951361596584, 0.0217173770070076, 0.004343475680798292, 0.01737390272319317, 0.004519080277532339, 0.9557854533195496, 0.01355724036693573, 0.004519080277532339, 0.015816781669855118, 0.004519080277532339, 0.9819852113723755, 0.3021009564399719, 0.14820046722888947, 0.2750258445739746, 0.18952558934688568, 0.014250044710934162, 0.018525058403611183, 0.0527251660823822, 0.018707679584622383, 0.8156548142433167, 0.08231379091739655, 0.07108917832374573, 0.007483071647584438, 0.003741535823792219, 0.9975729584693909, 0.9955843091011047, 0.987615704536438, 0.3453550934791565, 0.060710836201906204, 0.17018939554691315, 0.25578173995018005, 0.03383882716298103, 0.07763025164604187, 0.0557345412671566, 0.9972625374794006, 0.9837300181388855, 0.009193737991154194, 0.004596868995577097, 0.06546946614980698, 0.7823600769042969, 0.03764494135975838, 0.0671062022447586, 0.01473062951117754, 0.013093892484903336, 0.019640838727355003, 0.9949162006378174, 0.9960082769393921, 0.39243894815444946, 0.057500213384628296, 0.161000594496727, 0.19550073146820068, 0.012218795716762543, 0.16387560963630676, 0.01725006476044655, 0.06056084483861923, 0.01651659421622753, 0.07983020693063736, 0.07432467490434647, 0.005505531094968319, 0.765268862247467, 0.9748932123184204, 0.9857184886932373, 0.006484990008175373, 0.05820488929748535, 0.06984587013721466, 0.8730733394622803, 0.13640321791172028, 0.08126149326562881, 0.020315373316407204, 0.06675051152706146, 0.13059882819652557, 0.011608784087002277, 0.5572216510772705, 0.20731331408023834, 0.11456788331270218, 0.12729763984680176, 0.396441251039505, 0.01818537898361683, 0.03637075796723366, 0.10001958161592484, 0.03300776705145836, 0.9572252035140991, 0.23985713720321655, 0.17989285290241241, 0.23884080350399017, 0.21648123860359192, 0.018294189125299454, 0.049800846725702286, 0.05691525340080261, 0.7693464756011963, 0.03861584886908531, 0.07129079848527908, 0.04752719774842262, 0.002970449859276414, 0.02079314924776554, 0.04455674812197685, 0.005897013004869223, 0.9906981587409973, 0.030160268768668175, 0.006032053846865892, 0.9603029489517212, 0.003619232214987278, 0.14584288001060486, 0.09272129833698273, 0.11976500600576401, 0.10624315589666367, 0.0038633872754871845, 0.5041720271110535, 0.028009558096528053, 0.16156913340091705, 0.7001329064369202, 0.07603253424167633, 0.05385637655854225, 0.003168022260069847, 0.003168022260069847, 0.9858601093292236, 0.9816349148750305, 0.9872249364852905, 0.9958311915397644, 0.0037797170225530863, 0.9940655827522278, 0.9769304394721985, 0.9554315209388733, 0.9966755509376526, 0.04394661635160446, 0.005992720369249582, 0.8489687442779541, 0.07790536433458328, 0.001997573534026742, 0.007990294136106968, 0.011985440738499165, 0.06334923952817917, 0.5509121417999268, 0.048643168061971664, 0.31109002232551575, 0.0033937094267457724, 0.011312364600598812, 0.011312364600598812, 0.9840264320373535, 0.019342593848705292, 0.019342593848705292, 0.928444504737854, 0.019342593848705292, 0.009671296924352646, 0.09057458490133286, 0.027172375470399857, 0.03622983396053314, 0.8423436284065247, 0.9964306950569153, 0.07595882564783096, 0.924165666103363, 0.9932262301445007, 0.9950096607208252, 0.9974802732467651, 0.9926850199699402, 0.9853029847145081, 0.9871317744255066, 0.9681524634361267, 0.025311175733804703, 0.0039183902554214, 0.0039183902554214, 0.019591951742768288, 0.0078367805108428, 0.9639240503311157, 0.06001202017068863, 0.02000400610268116, 0.9001802802085876, 0.9980369806289673, 0.9446809887886047, 0.9723617434501648, 0.9778527021408081, 0.9799010753631592, 0.9709883332252502, 0.9877880811691284, 0.3896656632423401, 0.14079523086547852, 0.2389552891254425, 0.10807521641254425, 0.016855766996741295, 0.03866911306977272, 0.06742306798696518, 0.9914167523384094, 0.992384135723114, 0.975570023059845, 0.47191154956817627, 0.0254462119191885, 0.08790509402751923, 0.37706658244132996, 0.016193043440580368, 0.002313291886821389, 0.02081962674856186, 0.9799010753631592, 0.9548670053482056, 0.0333869569003582, 0.0066773914732038975, 0.9966844916343689, 0.9929161071777344, 0.26978638768196106, 0.1653711497783661, 0.189076229929924, 0.14900335669517517, 0.022576265037059784, 0.10328641533851624, 0.10046438127756119, 0.9839576482772827, 0.9895773530006409, 0.00841037929058075, 0.09251417219638824, 0.02523113787174225, 0.33641517162323, 0.02523113787174225, 0.5130331516265869, 0.5635281801223755, 0.08341030776500702, 0.05085994303226471, 0.11189188063144684, 0.010171988978981972, 0.012206386774778366, 0.17088940739631653, 0.9464287757873535, 0.24578045308589935, 0.13825151324272156, 0.1996966302394867, 0.3129860460758209, 0.013441118411719799, 0.023041918873786926, 0.06912575662136078, 0.33756792545318604, 0.24582229554653168, 0.10855400562286377, 0.1932961642742157, 0.01190592348575592, 0.04482229799032211, 0.05882926657795906, 0.06961800158023834, 0.03978171572089195, 0.02983628585934639, 0.019890857860445976, 0.8354160189628601, 0.012799520045518875, 0.8661008477210999, 0.008533013053238392, 0.06826410442590714, 0.04266506806015968, 0.992270827293396, 0.9723901748657227, 0.27791523933410645, 0.13698658347129822, 0.2631325125694275, 0.19118991494178772, 0.012811695225536823, 0.06110193207859993, 0.057159870862960815, 0.6134876608848572, 0.07325225323438644, 0.09614358842372894, 0.13276971876621246, 0.0022891329135745764, 0.0457826592028141, 0.03433699533343315, 0.008081361651420593, 0.98592609167099, 0.9981235861778259, 0.990573525428772, 0.005194929428398609, 0.0029685311019420624, 0.016574298962950706, 0.922223687171936, 0.0007421327754855156, 0.042301569133996964, 0.010142480954527855, 0.9799278974533081, 0.045489709824323654, 0.8510366082191467, 0.030326472595334053, 0.018954046070575714, 0.05496673285961151, 0.9840149283409119, 0.9854470491409302, 0.04990768805146217, 0.9482460618019104, 0.013263308443129063, 0.8974838852882385, 0.06189543753862381, 0.004421102814376354, 0.022105513140559196, 0.07434186339378357, 0.4793093502521515, 0.1408582627773285, 0.1662909984588623, 0.013694552704691887, 0.01760728284716606, 0.10760006308555603, 0.9894540905952454, 0.9803817272186279, 0.167632058262825, 0.11307256668806076, 0.11228185147047043, 0.10990969836711884, 0.4159172773361206, 0.030047256499528885, 0.049815185368061066, 0.3488241136074066, 0.07250837981700897, 0.21556545794010162, 0.15383535623550415, 0.1224803775548935, 0.04997199401259422, 0.036254189908504486, 0.23150306940078735, 0.0926012247800827, 0.4846130907535553, 0.1327284276485443, 0.009260122664272785, 0.03395378217101097, 0.01852024532854557, 0.9984169602394104, 0.9900637865066528, 0.9846799373626709, 0.0038165890146046877, 0.007633178029209375, 0.9936370849609375, 0.9937975406646729, 0.04523105546832085, 0.019188933074474335, 0.04797233268618584, 0.026042122393846512, 0.009594466537237167, 0.7648160457611084, 0.08497955650091171, 0.11341510713100433, 0.05210964381694794, 0.03984855115413666, 0.7356655597686768, 0.00613054633140564, 0.02145691215991974, 0.030652731657028198, 0.2297852784395218, 0.1368085741996765, 0.29619720578193665, 0.19923579692840576, 0.02390829473733902, 0.04117539897561073, 0.07172488421201706, 0.265023410320282, 0.16955797374248505, 0.4274570941925049, 0.055569421499967575, 0.024222567677497864, 0.011398855596780777, 0.04702027887105942, 0.3759079873561859, 0.08131688088178635, 0.29702574014663696, 0.18016314506530762, 0.011199330911040306, 0.010225475765764713, 0.044310398399829865, 0.9959834814071655, 0.001344972406513989, 0.05917878448963165, 0.0040349168702960014, 0.9334108233451843, 0.001344972406513989, 0.9885268211364746, 0.004885667469352484, 0.026871170848608017, 0.002442833734676242, 0.007328500971198082, 0.9404909610748291, 0.004885667469352484, 0.012214167974889278, 0.9989615082740784, 0.050567544996738434, 0.1074560284614563, 0.04213961958885193, 0.037925656884908676, 0.7479782700538635, 0.008427923545241356, 0.006320943124592304, 0.015900159254670143, 0.9789955019950867, 0.002271451288834214, 0.002271451288834214, 0.17670221626758575, 0.33651378750801086, 0.09874536097049713, 0.2754475772380829, 0.015591372735798359, 0.04417555406689644, 0.05327052250504494, 0.8653091192245483, 0.01632658764719963, 0.04897976294159889, 0.04897976294159889, 0.0046647391282022, 0.0023323695641011, 0.013994217850267887, 0.023601585999131203, 0.041613321751356125, 0.019875019788742065, 0.040371134877204895, 0.8713954091072083, 0.0031054718419909477, 0.002339837606996298, 0.002339837606996298, 0.007019513286650181, 0.004679675213992596, 0.007019513286650181, 0.9757123589515686, 0.9685371518135071, 0.03666617348790169, 0.9441539645195007, 0.018333086743950844, 0.9848618507385254, 0.0018465097527951002, 0.0009232548763975501, 0.9841896891593933, 0.006462784018367529, 0.004616274498403072, 0.0018465097527951002, 0.007783657871186733, 0.9262552857398987, 0.062269262969493866, 0.022421561181545258, 0.9641271829605103, 0.9995602369308472, 0.9799281358718872, 0.010893089696764946, 0.019062908366322517, 0.0027232724241912365, 0.9640384912490845, 0.0027232724241912365, 0.9916808605194092, 0.975570023059845, 0.8110605478286743, 0.025032732635736465, 0.05006546527147293, 0.03754910081624985, 0.0025032733101397753, 0.04505892097949982, 0.02753600664436817, 0.9913049936294556, 0.010069274343550205, 0.0025173185858875513, 0.005034637171775103, 0.9767195582389832, 0.005034637171775103, 0.01642753556370735, 0.3195902407169342, 0.6391804814338684, 0.017920948565006256, 0.004480237141251564, 0.0014934123028069735, 0.9824907779693604, 0.9675058722496033, 0.972133457660675, 0.19591230154037476, 0.05555722117424011, 0.10234224796295166, 0.10526631772518158, 0.14327915012836456, 0.07310160994529724, 0.3245711326599121, 0.99437415599823, 0.9972946643829346, 0.00037538111791945994, 0.00037538111791945994, 0.998889148235321, 0.01219585258513689, 0.027440669015049934, 0.018293779343366623, 0.01219585258513689, 0.9146889448165894, 0.01524481549859047, 0.1539892554283142, 0.07107196003198624, 0.25171318650245667, 0.4145864248275757, 0.026651985943317413, 0.05626530200242996, 0.026651985943317413, 0.149186909198761, 0.849402904510498, 0.9916107058525085, 0.9975023865699768, 0.9918017983436584, 0.03792564198374748, 0.8807176947593689, 0.008427920751273632, 0.05056752264499664, 0.021069802343845367, 0.013437383808195591, 0.026874767616391182, 0.013437383808195591, 0.8599925637245178, 0.026874767616391182, 0.026874767616391182, 0.04031214863061905, 0.9897832870483398, 0.9791592359542847, 0.08000921458005905, 0.03467065840959549, 0.013334868475794792, 0.042671579867601395, 0.8054260611534119, 0.021335789933800697, 0.9874021410942078, 0.9769304990768433, 0.7462031841278076, 0.039832912385463715, 0.03452185541391373, 0.10887662321329117, 0.0026555273216217756, 0.05311054736375809, 0.015933165326714516, 0.036295484751462936, 0.026213403791189194, 0.8650423288345337, 0.026213403791189194, 0.0020164158195257187, 0.004032831639051437, 0.04234473034739494, 0.9970355033874512, 0.02733825519680977, 0.009112751111388206, 0.020048053935170174, 0.9440810680389404, 0.028197763487696648, 0.0422966443002224, 0.014098881743848324, 0.8882295489311218, 0.014098881743848324, 0.9844134449958801, 0.014130336232483387, 0.1358940154314041, 0.013589400798082352, 0.4031522274017334, 0.27858272194862366, 0.0045298002660274506, 0.1653377115726471, 0.028887853026390076, 0.943669855594635, 0.009629284031689167, 0.019258568063378334, 0.9538090229034424, 0.026494694873690605, 0.9819414019584656, 0.8440633416175842, 0.06313859671354294, 0.06646167486906052, 0.026584671810269356, 0.08695807307958603, 0.0730447843670845, 0.041739873588085175, 0.048696521669626236, 0.0034783228766173124, 0.6991428732872009, 0.045218199491500854, 0.05504467338323593, 0.011795287020504475, 0.007863525301218033, 0.051112912595272064, 0.8610559701919556, 0.011795287020504475, 0.9882711172103882, 0.9954938292503357, 0.008213532157242298, 0.016427064314484596, 0.9691967964172363, 0.963579535484314, 0.9956935048103333, 0.03954848647117615, 0.0032957070507109165, 0.9557550549507141, 0.9947335720062256, 0.9769303798675537, 0.7964377999305725, 0.04856328293681145, 0.05827593803405762, 0.06151349097490311, 0.012950208969414234, 0.01942531205713749, 0.0032375522423535585, 0.8570213317871094, 0.0675884336233139, 0.010814148932695389, 0.0243318360298872, 0.029738910496234894, 0.002703537233173847, 0.008110611699521542, 0.9635795950889587, 0.9697253108024597, 0.024680178612470627, 0.0017995963571593165, 0.002827937016263604, 0.0010283407755196095, 0.9827114939689636, 0.2508879005908966, 0.4118022322654724, 0.19032876193523407, 0.09689464420080185, 0.010381569154560566, 0.019032876938581467, 0.020763138309121132, 0.9735326170921326, 0.01529108826071024, 0.005097029730677605, 0.005097029730677605, 0.9346133470535278, 0.036651503294706345, 0.013744314201176167, 0.013744314201176167, 0.06545168906450272, 0.021817229688167572, 0.8844369649887085, 0.011747739277780056, 0.003356497036293149, 0.015104236081242561, 0.9152661561965942, 0.004669725429266691, 0.0653761550784111, 0.014009175822138786, 0.9914166927337646, 0.9919472932815552, 0.028229814022779465, 0.03387577831745148, 0.16373293101787567, 0.050813667476177216, 0.7283292412757874, 0.981120765209198, 0.9944769144058228, 0.004305094946175814, 0.2115510106086731, 0.6012502312660217, 0.03958849236369133, 0.034639932215213776, 0.013608545064926147, 0.09897123277187347, 0.01844409853219986, 0.021078970283269882, 0.010539485141634941, 0.007904614321887493, 0.9432839155197144, 0.011529006995260715, 0.7753257155418396, 0.0288225170224905, 0.1729350984096527, 0.011529006995260715, 0.002882251748815179, 0.014492600224912167, 0.9710041880607605, 0.06735570728778839, 0.027398932725191116, 0.1506941318511963, 0.03082379885017872, 0.020549198612570763, 0.6963895559310913, 0.006849733181297779, 0.0011224871268495917, 0.007857410237193108, 0.9911561608314514, 0.007768621668219566, 0.0932234600186348, 0.893391489982605, 0.04320209473371506, 0.9288450479507446, 0.02160104736685753, 0.10368268191814423, 0.08294614404439926, 0.06912179291248322, 0.006912178825587034, 0.7396031618118286, 0.28441232442855835, 0.22112686932086945, 0.21368151903152466, 0.15486326813697815, 0.009678954258561134, 0.05137290805578232, 0.0647745355963707, 0.9935706257820129, 0.9769303202629089, 0.48324474692344666, 0.08498004823923111, 0.12937261164188385, 0.10654214769601822, 0.008878512308001518, 0.12049409747123718, 0.06722302734851837, 0.985215425491333, 0.9962643384933472, 0.01463919784873724, 0.9808262586593628, 0.027343187481164932, 0.027343187481164932, 0.9296683669090271, 0.4170956611633301, 0.032084282487630844, 0.07700227200984955, 0.019250568002462387, 0.012833712622523308, 0.43634623289108276, 0.9581568837165833, 0.9936931133270264, 0.28913456201553345, 0.14222294092178345, 0.1758250594139099, 0.2109900712966919, 0.01953611895442009, 0.08205169439315796, 0.08048880845308304, 0.9882117509841919, 0.005646924022585154, 0.4259561002254486, 0.180685356259346, 0.14070391654968262, 0.12840193510055542, 0.004613243043422699, 0.019221846014261246, 0.10072246938943863, 0.9958949685096741, 0.9894311428070068, 0.9841554164886475, 0.21234282851219177, 0.122686967253685, 0.03774983808398247, 0.1651555299758911, 0.0047187297604978085, 0.08965586125850677, 0.37277963757514954, 0.010268758982419968, 0.010268758982419968, 0.9755321145057678, 0.9897160530090332, 0.03449975699186325, 0.922084391117096, 0.01254536584019661, 0.009409024380147457, 0.021954389289021492, 0.021781915798783302, 0.9584042429924011, 0.22358758747577667, 0.052756622433662415, 0.09043992310762405, 0.08290326595306396, 0.01758554019033909, 0.5275662541389465, 0.005024440120905638, 0.006163985002785921, 0.006163985002785921, 0.9862375855445862, 0.9827116131782532, 0.009671352803707123, 0.9477925300598145, 0.03868541121482849, 0.9854741096496582, 0.0060564447194337845, 0.0060564447194337845, 0.9811440110206604, 0.9977754354476929, 0.9980251789093018, 0.9975729584693909, 0.020291637629270554, 0.7304989695549011, 0.09276176989078522, 0.13334505259990692, 0.020291637629270554, 0.002898805309087038, 0.9848012328147888, 0.19183668494224548, 0.6516805291175842, 0.056422553956508636, 0.07334931939840317, 0.00846338365226984, 0.00846338365226984, 0.014105638489127159, 0.011198470368981361, 0.013438164256513119, 0.9748268127441406, 0.19814586639404297, 0.11233466863632202, 0.33076319098472595, 0.2387111634016037, 0.018722444772720337, 0.020282648503780365, 0.08113059401512146, 0.18575415015220642, 0.35120728611946106, 0.17052839696407318, 0.16037790477275848, 0.029436450451612473, 0.03958695009350777, 0.06293310225009918, 0.1679043173789978, 0.02945689670741558, 0.010309914126992226, 0.010309914126992226, 0.7599879503250122, 0.010309914126992226, 0.010309914126992226, 0.029695183038711548, 0.032169781625270844, 0.07176335901021957, 0.8661094903945923, 0.016435809433460236, 0.021366551518440247, 0.009861485101282597, 0.039445940405130386, 0.8464441895484924, 0.001643580850213766, 0.06574323773384094, 0.05767901614308357, 0.8921021223068237, 0.01922633871436119, 0.026916874572634697, 0.003845267929136753, 0.010341796092689037, 0.00023504081764258444, 0.003995693754404783, 0.06393110007047653, 0.006111061200499535, 0.9091379046440125, 0.006346102338284254, 0.9755699634552002, 0.9467771649360657, 0.03787108510732651, 0.987615704536438, 0.8725805282592773, 0.07817918062210083, 0.007565727457404137, 0.002521909074857831, 0.03530672937631607, 0.979901134967804, 0.006648259237408638, 0.9905906319618225, 0.9992817640304565, 0.008972142823040485, 0.9869357347488403, 0.9895979166030884, 0.9626126885414124, 0.004498190246522427, 0.01349457073956728, 0.017992760986089706, 0.9872250556945801], \"Term\": [\"2015\", \"30am\", \"30am\", \"30am\", \"30am\", \"30am\", \"876642\", \"abc13houston\", \"abc13houston\", \"abc7\", \"abc7\", \"abc7\", \"ableg\", \"absolut\", \"absolut\", \"absolut\", \"absolut\", \"absolut\", \"absolut\", \"absolut\", \"aldotcom\", \"allin\", \"amarch4ourl\", \"andpizza\", \"andrewpitzel\", \"announc\", \"announc\", \"announc\", \"announc\", \"announc\", \"answer\", \"answer\", \"answer\", \"answer\", \"answer\", \"answer\", \"answer\", \"anygood\", \"april\", \"april\", \"april\", \"april\", \"april\", \"april\", \"ariana2525\", \"asvang\", \"await\", \"await\", \"await\", \"await\", \"ayton\", \"back\", \"back\", \"back\", \"back\", \"back\", \"back\", \"back\", \"backpack\", \"bagley\", \"bagley\", \"balloon\", \"balloon\", \"barnettejason\", \"bath\", \"bath\", \"beef\", \"beef\", \"beef\", \"beef\", \"beef\", \"beef\", \"beef\", \"beefsteak\", \"best\", \"best\", \"best\", \"best\", \"best\", \"best\", \"best\", \"bigalfish\", \"billgat\", \"bird\", \"bird\", \"birmingham\", \"birthday\", \"birthday\", \"birthday\", \"birthday\", \"birthday\", \"birthday\", \"birthday\", \"biscuitclub\", \"boat\", \"bottomless\", \"bracket\", \"bracket\", \"bracket\", \"bracket\", \"bracket\", \"breez\", \"bride\", \"bridesmaid\", \"brynnadonn21\", \"build\", \"build\", \"build\", \"build\", \"build\", \"build\", \"build\", \"bumper\", \"burger\", \"burger\", \"burger\", \"burger\", \"burger\", \"burger\", \"burrito\", \"burrito\", \"burrito\", \"burrito\", \"buttermilkcrispytend\", \"call\", \"call\", \"call\", \"call\", \"call\", \"call\", \"call\", \"camp\", \"camp\", \"camp\", \"canadian\", \"canadian\", \"canadian\", \"canadian\", \"canadian\", \"cantstop\", \"card\", \"card\", \"card\", \"card\", \"card\", \"card\", \"card\", \"carryout\", \"carryout\", \"carsen\", \"carter\", \"carv\", \"carv\", \"cast\", \"cast\", \"cast\", \"cast\", \"cdnpoli\", \"celebr\", \"celebr\", \"celebr\", \"celebr\", \"celebr\", \"celebr\", \"chanc\", \"chanc\", \"chanc\", \"chanc\", \"chanc\", \"chanc\", \"chanc\", \"chees\", \"chees\", \"chees\", \"chees\", \"chees\", \"chees\", \"chees\", \"chefjoseandr\", \"cherri\", \"cherri\", \"cherri\", \"chicagobul\", \"chicagoland\", \"chili\", \"chili\", \"chili\", \"chili\", \"chili\", \"chili\", \"chim\", \"chipotl\", \"chipotl\", \"chipotl\", \"chipotl\", \"chipotletweet\", \"chipotletweet\", \"chipotletweet\", \"chipotletweet\", \"chipotletweet\", \"christianacinn\", \"chuckl\", \"chuckl\", \"cloth\", \"cloth\", \"cloth\", \"coachronhunt\", \"coffe\", \"coffe\", \"coffe\", \"coffe\", \"coffe\", \"coffe\", \"come\", \"come\", \"come\", \"come\", \"come\", \"come\", \"come\", \"comment\", \"comment\", \"comment\", \"comment\", \"comment\", \"commerci\", \"commerci\", \"commerci\", \"commerci\", \"commerci\", \"commerci\", \"commerci\", \"conveni\", \"conveni\", \"conveni\", \"conveni\", \"conveni\", \"cool\", \"cool\", \"cool\", \"cool\", \"cool\", \"cool\", \"cool\", \"corn\", \"corn\", \"corn\", \"corn\", \"corndog\", \"crackerbarrel\", \"crackerbarrel\", \"cream\", \"cream\", \"cream\", \"cream\", \"cream\", \"cream\", \"croutoff\", \"crouton\", \"crowd\", \"crowd\", \"crowd\", \"crowd\", \"crumpl\", \"crumpl\", \"cute\", \"cute\", \"cute\", \"cute\", \"cute\", \"dalatnyk\", \"dallasmav\", \"dallasmav\", \"dave\", \"dave\", \"dave\", \"dave\", \"ddluckydozen\", \"deandr\", \"debut\", \"debut\", \"debut\", \"debut\", \"defeat\", \"defeat\", \"deliv\", \"deliv\", \"deliv\", \"deliv\", \"deliv\", \"deliv\", \"deliv\", \"deliveri\", \"deliveri\", \"deliveri\", \"deliveri\", \"deliveri\", \"deliveri\", \"deliveri\", \"denni\", \"denni\", \"denni\", \"denni\", \"dennysdin\", \"dennysdin\", \"dennysdin\", \"dennysdin\", \"dennysdin\", \"dennysdin\", \"denver\", \"denver\", \"devdawg\", \"devont\", \"dill\", \"diner\", \"diner\", \"dinner\", \"dinner\", \"dinner\", \"dinner\", \"dinner\", \"dinner\", \"dinner\", \"divinedetour\", \"domino\", \"domino\", \"domino\", \"dominos_india\", \"dominos_uk\", \"donorschoos\", \"donut\", \"donut\", \"donut\", \"donut\", \"donut\", \"dozen\", \"dozen\", \"dozen\", \"dpost\", \"dunkin\", \"dunkin\", \"dunkindonut\", \"dunkindonut\", \"dunkindonut\", \"dunkindonut\", \"easiest\", \"easiest\", \"easiest\", \"eddiethecommish\", \"edit\", \"edit\", \"edit\", \"edit\", \"edit\", \"edit\", \"edward\", \"enter\", \"enter\", \"enter\", \"enter\", \"enter\", \"enter\", \"even\", \"even\", \"even\", \"even\", \"even\", \"even\", \"even\", \"event\", \"event\", \"event\", \"event\", \"event\", \"ever\", \"ever\", \"ever\", \"ever\", \"ever\", \"ever\", \"ever\", \"exam\", \"exam\", \"exam\", \"exam\", \"exper\", \"exper\", \"exper\", \"exper\", \"face\", \"face\", \"face\", \"face\", \"face\", \"face\", \"fairway\", \"famou\", \"famou\", \"famou\", \"farmwork\", \"favorit\", \"favorit\", \"favorit\", \"favorit\", \"favorit\", \"favorit\", \"favorit\", \"featur\", \"featur\", \"featur\", \"featur\", \"featur\", \"featur\", \"feed\", \"feed\", \"feed\", \"feed\", \"feed\", \"feed\", \"finallysponsor\", \"first\", \"first\", \"first\", \"first\", \"first\", \"first\", \"first\", \"five\", \"five\", \"five\", \"five\", \"five\", \"five\", \"flickerworldtour2018\", \"fling\", \"fluff\", \"food\", \"food\", \"food\", \"food\", \"food\", \"food\", \"food\", \"foodforourl\", \"footbal\", \"footbal\", \"footbal\", \"found\", \"found\", \"found\", \"found\", \"found\", \"found\", \"found\", \"franklin_graham\", \"fraternita\", \"free\", \"free\", \"free\", \"free\", \"free\", \"free\", \"free\", \"fresh\", \"fresh\", \"fresh\", \"fresh\", \"fresh\", \"fresh\", \"freshest\", \"frost\", \"frost\", \"fruit\", \"fruit\", \"fruit\", \"gift\", \"gift\", \"gift\", \"gift\", \"gift\", \"gift\", \"gift\", \"give\", \"give\", \"give\", \"give\", \"give\", \"give\", \"give\", \"giveback\", \"giveback\", \"good\", \"good\", \"good\", \"good\", \"good\", \"good\", \"good\", \"gotta\", \"gotta\", \"gotta\", \"gotta\", \"gotta\", \"gotta\", \"gotta\", \"graham\", \"graham\", \"gravi\", \"gravi\", \"gravi\", \"gravi\", \"great\", \"great\", \"great\", \"great\", \"great\", \"great\", \"great\", \"green\", \"green\", \"green\", \"green\", \"green\", \"green\", \"grilli\", \"grower\", \"gsupanth\", \"guac\", \"haiku\", \"haiku\", \"hallmarkchannel\", \"hershenanigan\", \"hhinthorn\", \"high\", \"high\", \"high\", \"high\", \"high\", \"high\", \"high\", \"hope\", \"hope\", \"hope\", \"hope\", \"hope\", \"hope\", \"hope\", \"hyatt\", \"incred\", \"incred\", \"incred\", \"incred\", \"incred\", \"introduc\", \"introduc\", \"introduc\", \"introduc\", \"irishexamin\", \"itsjoshpeck\", \"itsjoshpeck\", \"jay_eatz\", \"jevon\", \"jghosti\", \"jhope\", \"joshleyva\", \"jpabooth15\", \"jpcacho\", \"jpcacho\", \"juic\", \"juic\", \"juic\", \"juic\", \"juic\", \"june\", \"june\", \"june\", \"k_smith31\", \"karivanhorn\", \"keenan\", \"keita\", \"khou\", \"kingtuckerc\", \"kirashek777\", \"know\", \"know\", \"know\", \"know\", \"know\", \"know\", \"know\", \"kooki\", \"kprc2taishaw\", \"laurelstucki\", \"leav\", \"leav\", \"leav\", \"leav\", \"leav\", \"leav\", \"leav\", \"legiqn\", \"lemon\", \"lemon\", \"lemon\", \"lidl_ireland\", \"lightningrodrec\", \"like\", \"like\", \"like\", \"like\", \"like\", \"like\", \"like\", \"limead\", \"limeaidsforlearn\", \"limit\", \"limit\", \"limit\", \"limit\", \"limit\", \"limit\", \"littl\", \"littl\", \"littl\", \"littl\", \"littl\", \"littl\", \"littl\", \"llimit\", \"locat\", \"locat\", \"locat\", \"locat\", \"locat\", \"locat\", \"locat\", \"love\", \"love\", \"love\", \"love\", \"love\", \"love\", \"love\", \"lover\", \"lover\", \"lover\", \"lover\", \"lover\", \"lucki\", \"lucki\", \"lucki\", \"lucki\", \"lucki\", \"lucyntheboy\", \"mainedcm\", \"make\", \"make\", \"make\", \"make\", \"make\", \"make\", \"make\", \"mani\", \"mani\", \"mani\", \"mani\", \"mani\", \"mani\", \"mani\", \"marvin\", \"marvin\", \"mattjackson13\", \"mcdo_ph\", \"mcdonald\", \"mcdonald\", \"mcdonald\", \"mcdonald\", \"mcdonald\", \"mcdonald\", \"mcdonald\", \"mcdonaldscorp\", \"member\", \"member\", \"member\", \"member\", \"member\", \"mickeysview\", \"mikehudema\", \"millsel\", \"millsel\", \"mint\", \"mint\", \"mint\", \"mint\", \"mint\", \"minut\", \"minut\", \"minut\", \"minut\", \"minut\", \"minut\", \"minut\", \"moniqu\", \"nationalproposalday\", \"need\", \"need\", \"need\", \"need\", \"need\", \"need\", \"need\", \"never\", \"never\", \"never\", \"never\", \"never\", \"never\", \"never\", \"next\", \"next\", \"next\", \"next\", \"next\", \"next\", \"next\", \"nialloffici\", \"nickjacksonyb\", \"ninja\", \"ninja\", \"ninja\", \"nyknick\", \"oakridgeboy\", \"offer\", \"offer\", \"offer\", \"offer\", \"offer\", \"offer\", \"offer\", \"okay\", \"okay\", \"okay\", \"okay\", \"okay\", \"okay\", \"okay\", \"onli\", \"onli\", \"onli\", \"onli\", \"onli\", \"onli\", \"onli\", \"open\", \"open\", \"open\", \"open\", \"open\", \"open\", \"open\", \"order\", \"order\", \"order\", \"order\", \"order\", \"order\", \"order\", \"packa\", \"pancak\", \"pancak\", \"pancak\", \"pancak\", \"pancak\", \"papajohn\", \"parent\", \"parent\", \"parent\", \"parent\", \"parent\", \"parent\", \"parent\", \"parkselyoung\", \"parti\", \"parti\", \"parti\", \"parti\", \"parti\", \"parti\", \"parti\", \"partnership\", \"partnership\", \"partnership\", \"partnership\", \"peopl\", \"peopl\", \"peopl\", \"peopl\", \"peopl\", \"peopl\", \"peopl\", \"perfect\", \"perfect\", \"perfect\", \"perfect\", \"perfect\", \"perfect\", \"perfect\", \"pick\", \"pick\", \"pick\", \"pick\", \"pick\", \"pick\", \"pickl\", \"pickl\", \"pickl\", \"pickl\", \"pickl\", \"pickl\", \"picklejuiceforev\", \"piday\", \"piday\", \"piday\", \"pinkhairfloosi\", \"pizza\", \"pizza\", \"pizza\", \"pizza\", \"pizza\", \"pizza\", \"pizzahut\", \"pizzahut\", \"pizzahut\", \"poster\", \"poster\", \"potbelli\", \"pounder\", \"pour\", \"pour\", \"pour\", \"pour\", \"pour\", \"pouyalilp\", \"pretzel\", \"probabl\", \"probabl\", \"probabl\", \"probabl\", \"probabl\", \"probabl\", \"probabl\", \"prodigalgamer64\", \"prom\", \"prom\", \"prom\", \"prom\", \"prom\", \"proud\", \"proud\", \"proud\", \"proud\", \"proud\", \"proud\", \"putinpunishesuk\", \"quiz\", \"rachd1214\", \"real\", \"real\", \"real\", \"real\", \"real\", \"real\", \"real\", \"realtrueclass\", \"redid\", \"redrobinburg\", \"redrobinburg\", \"redrobinburg\", \"remov\", \"remov\", \"remov\", \"remov\", \"remov\", \"remov\", \"restaur\", \"restaur\", \"restaur\", \"restaur\", \"restaur\", \"restaur\", \"restaur\", \"reveal\", \"reveal\", \"roadtripc\", \"roarloud\", \"robin\", \"room\", \"room\", \"room\", \"room\", \"room\", \"rule\", \"rule\", \"rule\", \"rule\", \"rule\", \"rule\", \"rule\", \"sadieisonfir\", \"sahmreview\", \"salad\", \"salad\", \"salad\", \"salad\", \"salad\", \"salad\", \"samcrac\", \"samgolbach\", \"sandwich\", \"sandwich\", \"sandwich\", \"sandwich\", \"sandwich\", \"sandwich\", \"sandwich\", \"school\", \"school\", \"school\", \"school\", \"school\", \"school\", \"school\", \"scottymccreeri\", \"seattl\", \"seattl\", \"seattl\", \"seattl\", \"server\", \"server\", \"server\", \"server\", \"server\", \"shack\", \"shack\", \"shake\", \"shake\", \"shake\", \"shake\", \"shake\", \"shake\", \"shamrock\", \"shamrock\", \"shamrock\", \"shamrock\", \"shamrockshak\", \"shamrockshak\", \"shinsuken\", \"shop\", \"shop\", \"shop\", \"shop\", \"singl\", \"singl\", \"singl\", \"singl\", \"singl\", \"singl\", \"singl\", \"sleep\", \"sleep\", \"sleep\", \"sleep\", \"sleep\", \"sleep\", \"slinger\", \"slush\", \"slushi\", \"slushi\", \"slushi\", \"snicker\", \"soniakont\", \"sonic\", \"sonic\", \"sonic\", \"southernersay\", \"spencerbogad\", \"sponsor\", \"sponsor\", \"sponsor\", \"sponsor\", \"sponsor\", \"sponsor\", \"sponsor\", \"spring\", \"spring\", \"spring\", \"spring\", \"spring\", \"spring\", \"spring\", \"stanley_tay17\", \"starbuck\", \"starbuck\", \"starbuck\", \"starbuck\", \"starbuck\", \"starch\", \"store\", \"store\", \"store\", \"store\", \"store\", \"store\", \"store\", \"stream\", \"stream\", \"stream\", \"stream\", \"strong\", \"strong\", \"strong\", \"strong\", \"student\", \"student\", \"student\", \"student\", \"student\", \"student\", \"studi\", \"studi\", \"studi\", \"studi\", \"suga\", \"sugashero\", \"summer\", \"summer\", \"summer\", \"summer\", \"summer\", \"superpidg\", \"sweepstak\", \"sweepstak\", \"sweet\", \"sweet\", \"sweet\", \"sweet\", \"sweet\", \"sweet\", \"syrup\", \"syrup\", \"syrup\", \"syrup\", \"syrup\", \"tabl\", \"tabl\", \"tabl\", \"tabl\", \"tabl\", \"tabl\", \"tavern\", \"tavern\", \"team\", \"team\", \"team\", \"team\", \"team\", \"team\", \"team\", \"teamfresh\", \"teamfresh\", \"teamfresh\", \"teamfrozen\", \"teamfrozen\", \"teamfrozen\", \"tender\", \"tender\", \"tender\", \"text\", \"text\", \"text\", \"text\", \"text\", \"thank\", \"thank\", \"thank\", \"thank\", \"thank\", \"thank\", \"thank\", \"theflickpick\", \"thesweetestheart\", \"thing\", \"thing\", \"thing\", \"thing\", \"thing\", \"thing\", \"thing\", \"thinkfoodgroup\", \"thirtytig\", \"thknwco\", \"thknwco\", \"throwback\", \"throwback\", \"throwback\", \"thursday\", \"thursday\", \"thursday\", \"thursday\", \"thursday\", \"thursday\", \"tiffanykh\", \"timbuntley\", \"time\", \"time\", \"time\", \"time\", \"time\", \"time\", \"time\", \"timsamstravelu\", \"timsamstravelu\", \"today\", \"today\", \"today\", \"today\", \"today\", \"today\", \"today\", \"tonysolo\", \"trae\", \"tramscout42\", \"treat\", \"treat\", \"treat\", \"treat\", \"treat\", \"treat\", \"treat\", \"tree\", \"tree\", \"tree\", \"trunk\", \"truth\", \"truth\", \"truth\", \"truth\", \"truth\", \"tumbl\", \"tumbl\", \"tweet\", \"tweet\", \"tweet\", \"tweet\", \"tweet\", \"tweet\", \"tweet\", \"umbcathlet\", \"umbcathlet\", \"umbcathlet\", \"underway\", \"union\", \"union\", \"union\", \"unnot\", \"upon\", \"upon\", \"upon\", \"verasweeney\", \"vevo\", \"vevovip\", \"video\", \"video\", \"video\", \"video\", \"video\", \"video\", \"vinyl\", \"visit\", \"visit\", \"visit\", \"visit\", \"visit\", \"visit\", \"visit\", \"vote\", \"vote\", \"vote\", \"wait\", \"wait\", \"wait\", \"wait\", \"wait\", \"wait\", \"wait\", \"want\", \"want\", \"want\", \"want\", \"want\", \"want\", \"want\", \"warm\", \"warm\", \"warm\", \"warm\", \"warm\", \"warm\", \"warm\", \"washington\", \"washington\", \"washington\", \"washington\", \"water\", \"water\", \"water\", \"water\", \"water\", \"water\", \"water\", \"wear\", \"wear\", \"wear\", \"wear\", \"wear\", \"wendi\", \"wendi\", \"wendi\", \"wendi\", \"wendi\", \"wendi\", \"wendi\", \"westonbergmann\", \"whatcha\", \"whatcha\", \"whiskerswednesday\", \"wing\", \"wing\", \"wing\", \"wing\", \"wing\", \"wkrn\", \"wood\", \"wood\", \"woodenaward\", \"worm\", \"worm\", \"yonggum\", \"youth\", \"youth\", \"youth\", \"youth\", \"zachkleinwsb\"]}, \"R\": 30, \"lambda.step\": 0.01, \"plot.opts\": {\"xlab\": \"PC1\", \"ylab\": \"PC2\"}, \"topic.order\": [3, 6, 4, 2, 5, 7, 1]};\n",
       "\n",
       "function LDAvis_load_lib(url, callback){\n",
       "  var s = document.createElement('script');\n",
       "  s.src = url;\n",
       "  s.async = true;\n",
       "  s.onreadystatechange = s.onload = callback;\n",
       "  s.onerror = function(){console.warn(\"failed to load library \" + url);};\n",
       "  document.getElementsByTagName(\"head\")[0].appendChild(s);\n",
       "}\n",
       "\n",
       "if(typeof(LDAvis) !== \"undefined\"){\n",
       "   // already loaded: just create the visualization\n",
       "   !function(LDAvis){\n",
       "       new LDAvis(\"#\" + \"ldavis_el982211123186402002674321965\", ldavis_el982211123186402002674321965_data);\n",
       "   }(LDAvis);\n",
       "}else if(typeof define === \"function\" && define.amd){\n",
       "   // require.js is available: use it to load d3/LDAvis\n",
       "   require.config({paths: {d3: \"https://cdnjs.cloudflare.com/ajax/libs/d3/3.5.5/d3.min\"}});\n",
       "   require([\"d3\"], function(d3){\n",
       "      window.d3 = d3;\n",
       "      LDAvis_load_lib(\"https://cdn.rawgit.com/bmabey/pyLDAvis/files/ldavis.v1.0.0.js\", function(){\n",
       "        new LDAvis(\"#\" + \"ldavis_el982211123186402002674321965\", ldavis_el982211123186402002674321965_data);\n",
       "      });\n",
       "    });\n",
       "}else{\n",
       "    // require.js not available: dynamically load d3 & LDAvis\n",
       "    LDAvis_load_lib(\"https://cdnjs.cloudflare.com/ajax/libs/d3/3.5.5/d3.min.js\", function(){\n",
       "         LDAvis_load_lib(\"https://cdn.rawgit.com/bmabey/pyLDAvis/files/ldavis.v1.0.0.js\", function(){\n",
       "                 new LDAvis(\"#\" + \"ldavis_el982211123186402002674321965\", ldavis_el982211123186402002674321965_data);\n",
       "            })\n",
       "         });\n",
       "}\n",
       "</script>"
      ],
      "text/plain": [
       "<IPython.core.display.HTML object>"
      ]
     },
     "execution_count": 20,
     "metadata": {},
     "output_type": "execute_result"
    }
   ],
   "source": [
    "x = pyLDAvis.gensim.prepare(ldamodel, corpus, dictionary)\n",
    "pyLDAvis.display(x)"
   ]
  },
  {
   "cell_type": "markdown",
   "metadata": {},
   "source": [
    "#you can update an LDA model like: \n",
    "newtext = 'some new text'\n",
    "new_doc = text_process(new_text)\n",
    "ldamodel.update([dictionary.doc2bow(new_doc)])"
   ]
  },
  {
   "cell_type": "code",
   "execution_count": 21,
   "metadata": {},
   "outputs": [
    {
     "name": "stdout",
     "output_type": "stream",
     "text": [
      "(0, '0.019*\"pickl\" + 0.013*\"sonic\" + 0.012*\"slush\" + 0.011*\"juic\" + 0.009*\"corn\"')\n",
      "(1, '0.077*\"mcdonald\" + 0.055*\"redrobinburg\" + 0.011*\"seattl\" + 0.009*\"burger\" + 0.008*\"order\"')\n",
      "(2, '0.045*\"starbuck\" + 0.044*\"chipotletweet\" + 0.025*\"potbelli\" + 0.010*\"burrito\" + 0.009*\"order\"')\n",
      "(3, '0.069*\"domino\" + 0.021*\"pizza\" + 0.013*\"come\" + 0.012*\"amarch4ourl\" + 0.012*\"order\"')\n",
      "(4, '0.104*\"dennysdin\" + 0.044*\"denni\" + 0.026*\"gravi\" + 0.026*\"call\" + 0.023*\"crowd\"')\n",
      "(5, '0.062*\"dunkindonut\" + 0.059*\"crackerbarrel\" + 0.012*\"celebr\" + 0.011*\"mattjackson13\" + 0.010*\"coffe\"')\n",
      "(6, '0.126*\"wendi\" + 0.057*\"vote\" + 0.046*\"pick\" + 0.029*\"teamfresh\" + 0.029*\"cast\"')\n"
     ]
    }
   ],
   "source": [
    "for i in ldamodel.print_topics(num_topics=14, num_words=5):\n",
    "    print(i)"
   ]
  },
  {
   "cell_type": "code",
   "execution_count": 22,
   "metadata": {
    "collapsed": true
   },
   "outputs": [],
   "source": [
    "#K-Means Clustering- remember- biased heavily by outliers\n",
    "#possibly use k-means ++ method in scikit learn\n",
    "#k-means is not great with non-spherical data, this may not be the best case..."
   ]
  },
  {
   "cell_type": "code",
   "execution_count": 29,
   "metadata": {},
   "outputs": [
    {
     "data": {
      "text/plain": [
       "(27528,)"
      ]
     },
     "execution_count": 29,
     "metadata": {},
     "output_type": "execute_result"
    }
   ],
   "source": [
    "#7155 multiple tweeters out of 27528 tweeters \n",
    "food.user_name.value_counts().sort_values(ascending=False).shape\n"
   ]
  },
  {
   "cell_type": "code",
   "execution_count": 30,
   "metadata": {
    "collapsed": true
   },
   "outputs": [],
   "source": [
    "from sklearn.cluster import KMeans, k_means\n",
    "from sklearn.metrics import silhouette_score"
   ]
  },
  {
   "cell_type": "code",
   "execution_count": 110,
   "metadata": {},
   "outputs": [
    {
     "data": {
      "text/plain": [
       "Index(['Company', 'favorite_count', 'number_of_people_they_follow',\n",
       "       'number_of_user_tweets', 'retweet_count', 'text', 'time_tweeted',\n",
       "       'unique_code', 'user_coordinates', 'user_followers_count',\n",
       "       'user_is_verified', 'user_location', 'user_name', 'user_profile_text'],\n",
       "      dtype='object')"
      ]
     },
     "execution_count": 110,
     "metadata": {},
     "output_type": "execute_result"
    }
   ],
   "source": [
    "food.columns"
   ]
  },
  {
   "cell_type": "code",
   "execution_count": 139,
   "metadata": {},
   "outputs": [],
   "source": [
    "food['user_is_verified'] = food['user_is_verified'].astype(bool).astype(int)"
   ]
  },
  {
   "cell_type": "code",
   "execution_count": 140,
   "metadata": {},
   "outputs": [],
   "source": [
    "#remember to drop these always, weird indexing...\n",
    "food = food.drop(list(food.loc[food['retweet_count'] == 'False'].index))"
   ]
  },
  {
   "cell_type": "code",
   "execution_count": 141,
   "metadata": {},
   "outputs": [
    {
     "data": {
      "text/plain": [
       "(44995, 5)"
      ]
     },
     "execution_count": 141,
     "metadata": {},
     "output_type": "execute_result"
    }
   ],
   "source": [
    "cluster_quant = food.drop(['Company', 'text', 'time_tweeted', \n",
    "       'unique_code', 'user_coordinates','user_is_verified', 'user_location', 'user_name', 'user_profile_text'], axis=1)\n",
    "cluster_quant.shape"
   ]
  },
  {
   "cell_type": "code",
   "execution_count": 142,
   "metadata": {},
   "outputs": [
    {
     "data": {
      "text/plain": [
       "(44991, 5)"
      ]
     },
     "execution_count": 142,
     "metadata": {},
     "output_type": "execute_result"
    }
   ],
   "source": [
    "cluster = cluster_quant.dropna()\n",
    "cluster.shape"
   ]
  },
  {
   "cell_type": "code",
   "execution_count": 143,
   "metadata": {},
   "outputs": [
    {
     "name": "stderr",
     "output_type": "stream",
     "text": [
      "/Users/slevin886/anaconda2/envs/python3/lib/python3.6/site-packages/pandas/core/generic.py:3643: SettingWithCopyWarning: \n",
      "A value is trying to be set on a copy of a slice from a DataFrame.\n",
      "Try using .loc[row_indexer,col_indexer] = value instead\n",
      "\n",
      "See the caveats in the documentation: http://pandas.pydata.org/pandas-docs/stable/indexing.html#indexing-view-versus-copy\n",
      "  self[name] = value\n"
     ]
    }
   ],
   "source": [
    "cluster.retweet_count = cluster.retweet_count.astype(int)"
   ]
  },
  {
   "cell_type": "code",
   "execution_count": 144,
   "metadata": {},
   "outputs": [
    {
     "data": {
      "text/html": [
       "<div>\n",
       "<style scoped>\n",
       "    .dataframe tbody tr th:only-of-type {\n",
       "        vertical-align: middle;\n",
       "    }\n",
       "\n",
       "    .dataframe tbody tr th {\n",
       "        vertical-align: top;\n",
       "    }\n",
       "\n",
       "    .dataframe thead th {\n",
       "        text-align: right;\n",
       "    }\n",
       "</style>\n",
       "<table border=\"1\" class=\"dataframe\">\n",
       "  <thead>\n",
       "    <tr style=\"text-align: right;\">\n",
       "      <th></th>\n",
       "      <th>favorite_count</th>\n",
       "      <th>number_of_people_they_follow</th>\n",
       "      <th>number_of_user_tweets</th>\n",
       "      <th>retweet_count</th>\n",
       "      <th>user_followers_count</th>\n",
       "    </tr>\n",
       "  </thead>\n",
       "  <tbody>\n",
       "    <tr>\n",
       "      <th>0</th>\n",
       "      <td>0.0</td>\n",
       "      <td>1559.0</td>\n",
       "      <td>776.0</td>\n",
       "      <td>0</td>\n",
       "      <td>1254.0</td>\n",
       "    </tr>\n",
       "    <tr>\n",
       "      <th>1</th>\n",
       "      <td>0.0</td>\n",
       "      <td>50.0</td>\n",
       "      <td>4.0</td>\n",
       "      <td>0</td>\n",
       "      <td>2.0</td>\n",
       "    </tr>\n",
       "    <tr>\n",
       "      <th>2</th>\n",
       "      <td>0.0</td>\n",
       "      <td>112.0</td>\n",
       "      <td>3587.0</td>\n",
       "      <td>0</td>\n",
       "      <td>39.0</td>\n",
       "    </tr>\n",
       "    <tr>\n",
       "      <th>3</th>\n",
       "      <td>0.0</td>\n",
       "      <td>3488.0</td>\n",
       "      <td>15077.0</td>\n",
       "      <td>0</td>\n",
       "      <td>5508.0</td>\n",
       "    </tr>\n",
       "    <tr>\n",
       "      <th>4</th>\n",
       "      <td>0.0</td>\n",
       "      <td>74.0</td>\n",
       "      <td>909.0</td>\n",
       "      <td>0</td>\n",
       "      <td>22.0</td>\n",
       "    </tr>\n",
       "  </tbody>\n",
       "</table>\n",
       "</div>"
      ],
      "text/plain": [
       "   favorite_count  number_of_people_they_follow  number_of_user_tweets  \\\n",
       "0             0.0                        1559.0                  776.0   \n",
       "1             0.0                          50.0                    4.0   \n",
       "2             0.0                         112.0                 3587.0   \n",
       "3             0.0                        3488.0                15077.0   \n",
       "4             0.0                          74.0                  909.0   \n",
       "\n",
       "   retweet_count  user_followers_count  \n",
       "0              0                1254.0  \n",
       "1              0                   2.0  \n",
       "2              0                  39.0  \n",
       "3              0                5508.0  \n",
       "4              0                  22.0  "
      ]
     },
     "execution_count": 144,
     "metadata": {},
     "output_type": "execute_result"
    }
   ],
   "source": [
    "cluster.head()"
   ]
  },
  {
   "cell_type": "code",
   "execution_count": null,
   "metadata": {
    "collapsed": true
   },
   "outputs": [],
   "source": []
  },
  {
   "cell_type": "code",
   "execution_count": null,
   "metadata": {
    "collapsed": true
   },
   "outputs": [],
   "source": []
  },
  {
   "cell_type": "code",
   "execution_count": 145,
   "metadata": {},
   "outputs": [
    {
     "data": {
      "text/plain": [
       "KMeans(algorithm='auto', copy_x=True, init='k-means++', max_iter=300,\n",
       "    n_clusters=3, n_init=10, n_jobs=1, precompute_distances='auto',\n",
       "    random_state=0, tol=0.0001, verbose=0)"
      ]
     },
     "execution_count": 145,
     "metadata": {},
     "output_type": "execute_result"
    }
   ],
   "source": [
    "model = KMeans(n_clusters=3, random_state=0)\n",
    "model.fit(cluster)"
   ]
  },
  {
   "cell_type": "code",
   "execution_count": 146,
   "metadata": {},
   "outputs": [
    {
     "name": "stderr",
     "output_type": "stream",
     "text": [
      "/Users/slevin886/anaconda2/envs/python3/lib/python3.6/site-packages/ipykernel_launcher.py:1: SettingWithCopyWarning: \n",
      "A value is trying to be set on a copy of a slice from a DataFrame.\n",
      "Try using .loc[row_indexer,col_indexer] = value instead\n",
      "\n",
      "See the caveats in the documentation: http://pandas.pydata.org/pandas-docs/stable/indexing.html#indexing-view-versus-copy\n",
      "  \"\"\"Entry point for launching an IPython kernel.\n"
     ]
    }
   ],
   "source": [
    "cluster['predicted'] = model.predict(cluster)"
   ]
  },
  {
   "cell_type": "code",
   "execution_count": 147,
   "metadata": {},
   "outputs": [
    {
     "name": "stderr",
     "output_type": "stream",
     "text": [
      "/Users/slevin886/anaconda2/envs/python3/lib/python3.6/site-packages/ipykernel_launcher.py:1: RuntimeWarning: divide by zero encountered in log\n",
      "  \"\"\"Entry point for launching an IPython kernel.\n",
      "/Users/slevin886/anaconda2/envs/python3/lib/python3.6/site-packages/pandas/core/generic.py:3643: SettingWithCopyWarning: \n",
      "A value is trying to be set on a copy of a slice from a DataFrame.\n",
      "Try using .loc[row_indexer,col_indexer] = value instead\n",
      "\n",
      "See the caveats in the documentation: http://pandas.pydata.org/pandas-docs/stable/indexing.html#indexing-view-versus-copy\n",
      "  self[name] = value\n",
      "/Users/slevin886/anaconda2/envs/python3/lib/python3.6/site-packages/ipykernel_launcher.py:2: RuntimeWarning: divide by zero encountered in log\n",
      "  \n"
     ]
    }
   ],
   "source": [
    "cluster.retweet_count = np.log(cluster['retweet_count'].values)\n",
    "cluster.favorite_count = np.log(cluster['favorite_count'].values)"
   ]
  },
  {
   "cell_type": "code",
   "execution_count": 148,
   "metadata": {
    "scrolled": true
   },
   "outputs": [
    {
     "data": {
      "text/plain": [
       "<seaborn.axisgrid.FacetGrid at 0x119145438>"
      ]
     },
     "execution_count": 148,
     "metadata": {},
     "output_type": "execute_result"
    },
    {
     "data": {
      "text/plain": [
       "<matplotlib.figure.Figure at 0x10f5d8eb8>"
      ]
     },
     "metadata": {},
     "output_type": "display_data"
    },
    {
     "data": {
      "image/png": "[encoded data removed]",
      "text/plain": [
       "<matplotlib.figure.Figure at 0x11a67e400>"
      ]
     },
     "metadata": {},
     "output_type": "display_data"
    }
   ],
   "source": [
    "plt.figure(figsize=(15,25))\n",
    "fg = sns.FacetGrid(data=cluster, hue='predicted', aspect=1.61)\n",
    "fg.map(plt.scatter, 'retweet_count', 'favorite_count')"
   ]
  },
  {
   "cell_type": "code",
   "execution_count": 149,
   "metadata": {},
   "outputs": [],
   "source": [
    "#it is useful to scale before clustering\n",
    "#to optimize k, use the elbow method (inertia vs. silhouette score)"
   ]
  },
  {
   "cell_type": "code",
   "execution_count": 137,
   "metadata": {},
   "outputs": [
    {
     "ename": "ValueError",
     "evalue": "Input contains NaN, infinity or a value too large for dtype('float64').",
     "output_type": "error",
     "traceback": [
      "\u001b[0;31m---------------------------------------------------------------------------\u001b[0m",
      "\u001b[0;31mValueError\u001b[0m                                Traceback (most recent call last)",
      "\u001b[0;32m<ipython-input-137-777fe8a96ed3>\u001b[0m in \u001b[0;36m<module>\u001b[0;34m()\u001b[0m\n\u001b[1;32m      1\u001b[0m \u001b[0mpredicted\u001b[0m \u001b[0;34m=\u001b[0m \u001b[0mmodel\u001b[0m\u001b[0;34m.\u001b[0m\u001b[0mlabels_\u001b[0m\u001b[0;34m\u001b[0m\u001b[0m\n\u001b[1;32m      2\u001b[0m \u001b[0minertia\u001b[0m \u001b[0;34m=\u001b[0m \u001b[0mmodel\u001b[0m\u001b[0;34m.\u001b[0m\u001b[0minertia_\u001b[0m\u001b[0;34m\u001b[0m\u001b[0m\n\u001b[0;32m----> 3\u001b[0;31m \u001b[0mscore\u001b[0m \u001b[0;34m=\u001b[0m \u001b[0msilhouette_score\u001b[0m\u001b[0;34m(\u001b[0m\u001b[0mcluster\u001b[0m\u001b[0;34m,\u001b[0m \u001b[0mpredicted\u001b[0m\u001b[0;34m)\u001b[0m\u001b[0;34m\u001b[0m\u001b[0m\n\u001b[0m\u001b[1;32m      4\u001b[0m \u001b[0minertia\u001b[0m\u001b[0;34m,\u001b[0m \u001b[0mscore\u001b[0m\u001b[0;34m\u001b[0m\u001b[0m\n",
      "\u001b[0;32m~/anaconda2/envs/python3/lib/python3.6/site-packages/sklearn/metrics/cluster/unsupervised.py\u001b[0m in \u001b[0;36msilhouette_score\u001b[0;34m(X, labels, metric, sample_size, random_state, **kwds)\u001b[0m\n\u001b[1;32m     99\u001b[0m         \u001b[0;32melse\u001b[0m\u001b[0;34m:\u001b[0m\u001b[0;34m\u001b[0m\u001b[0m\n\u001b[1;32m    100\u001b[0m             \u001b[0mX\u001b[0m\u001b[0;34m,\u001b[0m \u001b[0mlabels\u001b[0m \u001b[0;34m=\u001b[0m \u001b[0mX\u001b[0m\u001b[0;34m[\u001b[0m\u001b[0mindices\u001b[0m\u001b[0;34m]\u001b[0m\u001b[0;34m,\u001b[0m \u001b[0mlabels\u001b[0m\u001b[0;34m[\u001b[0m\u001b[0mindices\u001b[0m\u001b[0;34m]\u001b[0m\u001b[0;34m\u001b[0m\u001b[0m\n\u001b[0;32m--> 101\u001b[0;31m     \u001b[0;32mreturn\u001b[0m \u001b[0mnp\u001b[0m\u001b[0;34m.\u001b[0m\u001b[0mmean\u001b[0m\u001b[0;34m(\u001b[0m\u001b[0msilhouette_samples\u001b[0m\u001b[0;34m(\u001b[0m\u001b[0mX\u001b[0m\u001b[0;34m,\u001b[0m \u001b[0mlabels\u001b[0m\u001b[0;34m,\u001b[0m \u001b[0mmetric\u001b[0m\u001b[0;34m=\u001b[0m\u001b[0mmetric\u001b[0m\u001b[0;34m,\u001b[0m \u001b[0;34m**\u001b[0m\u001b[0mkwds\u001b[0m\u001b[0;34m)\u001b[0m\u001b[0;34m)\u001b[0m\u001b[0;34m\u001b[0m\u001b[0m\n\u001b[0m\u001b[1;32m    102\u001b[0m \u001b[0;34m\u001b[0m\u001b[0m\n\u001b[1;32m    103\u001b[0m \u001b[0;34m\u001b[0m\u001b[0m\n",
      "\u001b[0;32m~/anaconda2/envs/python3/lib/python3.6/site-packages/sklearn/metrics/cluster/unsupervised.py\u001b[0m in \u001b[0;36msilhouette_samples\u001b[0;34m(X, labels, metric, **kwds)\u001b[0m\n\u001b[1;32m    162\u001b[0m \u001b[0;34m\u001b[0m\u001b[0m\n\u001b[1;32m    163\u001b[0m     \"\"\"\n\u001b[0;32m--> 164\u001b[0;31m     \u001b[0mX\u001b[0m\u001b[0;34m,\u001b[0m \u001b[0mlabels\u001b[0m \u001b[0;34m=\u001b[0m \u001b[0mcheck_X_y\u001b[0m\u001b[0;34m(\u001b[0m\u001b[0mX\u001b[0m\u001b[0;34m,\u001b[0m \u001b[0mlabels\u001b[0m\u001b[0;34m,\u001b[0m \u001b[0maccept_sparse\u001b[0m\u001b[0;34m=\u001b[0m\u001b[0;34m[\u001b[0m\u001b[0;34m'csc'\u001b[0m\u001b[0;34m,\u001b[0m \u001b[0;34m'csr'\u001b[0m\u001b[0;34m]\u001b[0m\u001b[0;34m)\u001b[0m\u001b[0;34m\u001b[0m\u001b[0m\n\u001b[0m\u001b[1;32m    165\u001b[0m     \u001b[0mle\u001b[0m \u001b[0;34m=\u001b[0m \u001b[0mLabelEncoder\u001b[0m\u001b[0;34m(\u001b[0m\u001b[0;34m)\u001b[0m\u001b[0;34m\u001b[0m\u001b[0m\n\u001b[1;32m    166\u001b[0m     \u001b[0mlabels\u001b[0m \u001b[0;34m=\u001b[0m \u001b[0mle\u001b[0m\u001b[0;34m.\u001b[0m\u001b[0mfit_transform\u001b[0m\u001b[0;34m(\u001b[0m\u001b[0mlabels\u001b[0m\u001b[0;34m)\u001b[0m\u001b[0;34m\u001b[0m\u001b[0m\n",
      "\u001b[0;32m~/anaconda2/envs/python3/lib/python3.6/site-packages/sklearn/utils/validation.py\u001b[0m in \u001b[0;36mcheck_X_y\u001b[0;34m(X, y, accept_sparse, dtype, order, copy, force_all_finite, ensure_2d, allow_nd, multi_output, ensure_min_samples, ensure_min_features, y_numeric, warn_on_dtype, estimator)\u001b[0m\n\u001b[1;32m    571\u001b[0m     X = check_array(X, accept_sparse, dtype, order, copy, force_all_finite,\n\u001b[1;32m    572\u001b[0m                     \u001b[0mensure_2d\u001b[0m\u001b[0;34m,\u001b[0m \u001b[0mallow_nd\u001b[0m\u001b[0;34m,\u001b[0m \u001b[0mensure_min_samples\u001b[0m\u001b[0;34m,\u001b[0m\u001b[0;34m\u001b[0m\u001b[0m\n\u001b[0;32m--> 573\u001b[0;31m                     ensure_min_features, warn_on_dtype, estimator)\n\u001b[0m\u001b[1;32m    574\u001b[0m     \u001b[0;32mif\u001b[0m \u001b[0mmulti_output\u001b[0m\u001b[0;34m:\u001b[0m\u001b[0;34m\u001b[0m\u001b[0m\n\u001b[1;32m    575\u001b[0m         y = check_array(y, 'csr', force_all_finite=True, ensure_2d=False,\n",
      "\u001b[0;32m~/anaconda2/envs/python3/lib/python3.6/site-packages/sklearn/utils/validation.py\u001b[0m in \u001b[0;36mcheck_array\u001b[0;34m(array, accept_sparse, dtype, order, copy, force_all_finite, ensure_2d, allow_nd, ensure_min_samples, ensure_min_features, warn_on_dtype, estimator)\u001b[0m\n\u001b[1;32m    451\u001b[0m                              % (array.ndim, estimator_name))\n\u001b[1;32m    452\u001b[0m         \u001b[0;32mif\u001b[0m \u001b[0mforce_all_finite\u001b[0m\u001b[0;34m:\u001b[0m\u001b[0;34m\u001b[0m\u001b[0m\n\u001b[0;32m--> 453\u001b[0;31m             \u001b[0m_assert_all_finite\u001b[0m\u001b[0;34m(\u001b[0m\u001b[0marray\u001b[0m\u001b[0;34m)\u001b[0m\u001b[0;34m\u001b[0m\u001b[0m\n\u001b[0m\u001b[1;32m    454\u001b[0m \u001b[0;34m\u001b[0m\u001b[0m\n\u001b[1;32m    455\u001b[0m     \u001b[0mshape_repr\u001b[0m \u001b[0;34m=\u001b[0m \u001b[0m_shape_repr\u001b[0m\u001b[0;34m(\u001b[0m\u001b[0marray\u001b[0m\u001b[0;34m.\u001b[0m\u001b[0mshape\u001b[0m\u001b[0;34m)\u001b[0m\u001b[0;34m\u001b[0m\u001b[0m\n",
      "\u001b[0;32m~/anaconda2/envs/python3/lib/python3.6/site-packages/sklearn/utils/validation.py\u001b[0m in \u001b[0;36m_assert_all_finite\u001b[0;34m(X)\u001b[0m\n\u001b[1;32m     42\u001b[0m             and not np.isfinite(X).all()):\n\u001b[1;32m     43\u001b[0m         raise ValueError(\"Input contains NaN, infinity\"\n\u001b[0;32m---> 44\u001b[0;31m                          \" or a value too large for %r.\" % X.dtype)\n\u001b[0m\u001b[1;32m     45\u001b[0m \u001b[0;34m\u001b[0m\u001b[0m\n\u001b[1;32m     46\u001b[0m \u001b[0;34m\u001b[0m\u001b[0m\n",
      "\u001b[0;31mValueError\u001b[0m: Input contains NaN, infinity or a value too large for dtype('float64')."
     ]
    }
   ],
   "source": [
    "#play more later...\n",
    "predicted = model.labels_\n",
    "inertia = model.inertia_\n",
    "score = silhouette_score(cluster, predicted)\n",
    "inertia, score"
   ]
  }
 ],
 "metadata": {
  "kernelspec": {
   "display_name": "Python 3",
   "language": "python",
   "name": "python3"
  },
  "language_info": {
   "codemirror_mode": {
    "name": "ipython",
    "version": 3
   },
   "file_extension": ".py",
   "mimetype": "text/x-python",
   "name": "python",
   "nbconvert_exporter": "python",
   "pygments_lexer": "ipython3",
   "version": "3.6.4"
  }
 },
 "nbformat": 4,
 "nbformat_minor": 2
}
