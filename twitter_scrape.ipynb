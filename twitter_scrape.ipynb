{
 "cells": [
  {
   "cell_type": "code",
   "execution_count": 65,
   "metadata": {
    "collapsed": true
   },
   "outputs": [],
   "source": [
    "import tweepy\n",
    "from tqdm import tqdm\n",
    "from tweepy import OAuthHandler\n",
    "from twitter_codes import consumer_secret, consumer_key, access_secret, access_token\n",
    "import pandas as pd"
   ]
  },
  {
   "cell_type": "code",
   "execution_count": 2,
   "metadata": {
    "collapsed": true
   },
   "outputs": [],
   "source": [
    "auth = OAuthHandler(consumer_secret, consumer_key)\n",
    "auth.set_access_token(access_token, access_secret)\n",
    "api = tweepy.API(auth)"
   ]
  },
  {
   "cell_type": "code",
   "execution_count": 3,
   "metadata": {
    "collapsed": true
   },
   "outputs": [],
   "source": [
    "try:\n",
    "    redirect_url = auth.get_authorization_url(signin_with_twitter=True)\n",
    "except tweepy.TweepError:\n",
    "    print('Error! Failed to get request token.')"
   ]
  },
  {
   "cell_type": "code",
   "execution_count": 98,
   "metadata": {
    "collapsed": true
   },
   "outputs": [],
   "source": [
    "rest_names = ['@McDonalds', \n",
    "             '@sonicdrivein', \n",
    "             '@wingstop',\n",
    "             '@Starbucks',\n",
    "             '@shakeshack',\n",
    "             '@redrobinburgers',\n",
    "             '@Potbelly',\n",
    "             '@dominos',\n",
    "             '@DennysDiner',\n",
    "             '@CrackerBarrel',\n",
    "             '@ChipotleTweets',\n",
    "             '@Wendys',\n",
    "             '@dunkindonuts']"
   ]
  },
  {
   "cell_type": "code",
   "execution_count": 100,
   "metadata": {},
   "outputs": [
    {
     "name": "stderr",
     "output_type": "stream",
     "text": [
      "\n",
      "  0%|          | 0/13 [00:00<?, ?it/s]\u001b[A\n",
      "Exception in thread Thread-14:\n",
      "Traceback (most recent call last):\n",
      "  File \"/Users/slevin886/anaconda2/envs/python3/lib/python3.6/threading.py\", line 916, in _bootstrap_inner\n",
      "    self.run()\n",
      "  File \"/Users/slevin886/anaconda2/envs/python3/lib/python3.6/site-packages/tqdm/_tqdm.py\", line 144, in run\n",
      "    for instance in self.tqdm_cls._instances:\n",
      "  File \"/Users/slevin886/anaconda2/envs/python3/lib/python3.6/_weakrefset.py\", line 60, in __iter__\n",
      "    for itemref in self.data:\n",
      "RuntimeError: Set changed size during iteration\n",
      "\n",
      "100%|██████████| 13/13 [30:16<00:00, 139.73s/it]\n"
     ]
    }
   ],
   "source": [
    "all_comps = []\n",
    "for company in tqdm(rest_names):\n",
    "    list_tweets = []\n",
    "    for tweet in tweepy.Cursor(api.search, q=company, wait_on_rate_limit=True, lang=\"en\").items(500):\n",
    "        if not tweet.retweeted:\n",
    "            if not tweet.is_quote_status:\n",
    "                if not tweet.user.screen_name == company[1:]:\n",
    "                    twitter_dic = {}\n",
    "                    twitter_dic['Company'] = company\n",
    "                    twitter_dic['text'] = tweet.text\n",
    "                    twitter_dic['retweet_count'] = tweet.retweet_count     \n",
    "                    twitter_dic['favorite_count'] = tweet.favorite_count\n",
    "                    twitter_dic['user_followers_count'] = tweet.author.followers_count\n",
    "                    twitter_dic['user_name'] = tweet.author.name\n",
    "                    twitter_dic['user_location'] = tweet.author.location\n",
    "                    twitter_dic['user_coordinates'] = tweet.coordinates\n",
    "                    twitter_dic['number_of_user_tweets'] = tweet.author.statuses_count\n",
    "                    twitter_dic['user_is_verified'] = tweet.author.verified\n",
    "                    twitter_dic['user_profile_text'] = tweet.author.description\n",
    "                    twitter_dic['number_of_people_they_follow'] = tweet.author.friends_count\n",
    "                    twitter_dic['time_tweeted'] = tweet.created_at\n",
    "                    twitter_dic['unique_code'] = tweet.id_str\n",
    "                    list_tweets.append(twitter_dic)\n",
    "    all_comps.extend(list_tweets)"
   ]
  },
  {
   "cell_type": "code",
   "execution_count": 101,
   "metadata": {
    "collapsed": true
   },
   "outputs": [],
   "source": [
    "df = pd.DataFrame(all_comps)"
   ]
  },
  {
   "cell_type": "code",
   "execution_count": 102,
   "metadata": {},
   "outputs": [],
   "source": [
    "with open('fastfood.csv', 'a') as f:\n",
    "    df.to_csv(f, header=False)"
   ]
  }
 ],
 "metadata": {
  "kernelspec": {
   "display_name": "Python 3",
   "language": "python",
   "name": "python3"
  },
  "language_info": {
   "codemirror_mode": {
    "name": "ipython",
    "version": 3
   },
   "file_extension": ".py",
   "mimetype": "text/x-python",
   "name": "python",
   "nbconvert_exporter": "python",
   "pygments_lexer": "ipython3",
   "version": "3.6.4"
  }
 },
 "nbformat": 4,
 "nbformat_minor": 2
}
